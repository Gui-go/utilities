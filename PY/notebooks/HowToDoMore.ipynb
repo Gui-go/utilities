{
 "metadata": {
  "language_info": {
   "codemirror_mode": {
    "name": "ipython",
    "version": 3
   },
   "file_extension": ".py",
   "mimetype": "text/x-python",
   "name": "python",
   "nbconvert_exporter": "python",
   "pygments_lexer": "ipython3",
   "version": "3.6.9-final"
  },
  "orig_nbformat": 2,
  "kernelspec": {
   "name": "python_defaultSpec_1598718379217",
   "display_name": "Python 3.6.9 64-bit"
  }
 },
 "nbformat": 4,
 "nbformat_minor": 2,
 "cells": [
  {
   "cell_type": "code",
   "execution_count": 4,
   "metadata": {},
   "outputs": [
    {
     "output_type": "display_data",
     "data": {
      "text/plain": "<IPython.core.display.Markdown object>",
      "text/markdown": "**BOLD TEXT**"
     },
     "metadata": {}
    },
    {
     "output_type": "display_data",
     "data": {
      "text/plain": "<IPython.core.display.Markdown object>",
      "text/markdown": "Equation:\n$$c = \\sqrt{a^2 + b^2}$$"
     },
     "metadata": {}
    },
    {
     "output_type": "display_data",
     "data": {
      "text/plain": "<IPython.core.display.Markdown object>",
      "text/markdown": "Equation using assigned variables:\n$$15.0 = \\sqrt{9^2 + 12^2}$$"
     },
     "metadata": {}
    }
   ],
   "source": [
    "from IPython.display import Markdown, display\n",
    "def printmd(string):\n",
    "    display(Markdown(string))\n",
    "printmd('**BOLD TEXT**')\n",
    "equation_str= '$$c = \\sqrt{a^2 + b^2}$$'\n",
    "printmd(f'Equation:\\n{equation_str}')\n",
    "a = '9'\n",
    "b = '12'\n",
    "import math\n",
    "c = math.sqrt(int(a)**2 + int(b)**2)\n",
    "equation_str = equation_str.replace('a',a).replace('b',b).replace('c',str(c))\n",
    "printmd(f'Equation using assigned variables:\\n{equation_str}')"
   ]
  },
  {
   "cell_type": "code",
   "execution_count": 3,
   "metadata": {
    "tags": []
   },
   "outputs": [
    {
     "output_type": "stream",
     "name": "stdout",
     "text": "Object `str.replace()` not found.\n"
    }
   ],
   "source": [
    "?str.replace()"
   ]
  },
  {
   "cell_type": "code",
   "execution_count": null,
   "metadata": {},
   "outputs": [],
   "source": []
  },
  {
   "cell_type": "code",
   "execution_count": null,
   "metadata": {},
   "outputs": [],
   "source": []
  },
  {
   "cell_type": "code",
   "execution_count": 17,
   "metadata": {
    "tags": []
   },
   "outputs": [
    {
     "output_type": "stream",
     "name": "stdout",
     "text": "First arg = var1 & Second arg = var2\n"
    }
   ],
   "source": [
    "ArgList = ['var1', 'var2']\n",
    "print('First arg = {} & Second arg = {}'.format(*ArgList))"
   ]
  },
  {
   "cell_type": "markdown",
   "metadata": {},
   "source": [
    "### Format"
   ]
  },
  {
   "cell_type": "code",
   "execution_count": null,
   "metadata": {},
   "outputs": [],
   "source": [
    "print(f'')"
   ]
  },
  {
   "cell_type": "markdown",
   "metadata": {},
   "source": [
    "### Raw for ignoring special characters"
   ]
  },
  {
   "cell_type": "code",
   "execution_count": 18,
   "metadata": {
    "tags": []
   },
   "outputs": [
    {
     "output_type": "stream",
     "name": "stdout",
     "text": "\\n\\n\\n\n"
    }
   ],
   "source": [
    "print(r'\\n\\n\\n')"
   ]
  },
  {
   "cell_type": "markdown",
   "metadata": {},
   "source": [
    "### List Comprehension - Clear syntax"
   ]
  },
  {
   "cell_type": "code",
   "execution_count": 20,
   "metadata": {},
   "outputs": [
    {
     "output_type": "execute_result",
     "data": {
      "text/plain": "[0, 4, 16, 36, 64, 100]"
     },
     "metadata": {},
     "execution_count": 20
    }
   ],
   "source": [
    "listComprehension = [i * i for i in range(11) if i % 2 == 0]\n",
    "listComprehension"
   ]
  },
  {
   "cell_type": "markdown",
   "metadata": {},
   "source": [
    "### Generator - Used only in demand"
   ]
  },
  {
   "cell_type": "code",
   "execution_count": 23,
   "metadata": {
    "tags": []
   },
   "outputs": [
    {
     "output_type": "stream",
     "name": "stdout",
     "text": "0\n4\n16\n"
    }
   ],
   "source": [
    "Generator = (i * i for i in range(11) if i % 2 == 0)\n",
    "Generator\n",
    "print(next(Generator))\n",
    "print(next(Generator))\n",
    "print(next(Generator))"
   ]
  },
  {
   "cell_type": "markdown",
   "metadata": {},
   "source": [
    "### Dict comprehention"
   ]
  },
  {
   "cell_type": "code",
   "execution_count": 24,
   "metadata": {
    "tags": []
   },
   "outputs": [
    {
     "output_type": "stream",
     "name": "stdout",
     "text": "{0: 0, 2: 4, 4: 8, 6: 12, 8: 16}\n0 x 2 = 0\n2 x 2 = 4\n4 x 2 = 8\n6 x 2 = 12\n8 x 2 = 16\n"
    }
   ],
   "source": [
    "dicionario = {i: i * 2 for i in range(10) if i % 2 == 0}\n",
    "print(dicionario)\n",
    "\n",
    "for numero, dobro in dicionario.items():\n",
    "    print(f'{numero} x 2 = {dobro}')"
   ]
  },
  {
   "cell_type": "markdown",
   "metadata": {},
   "source": [
    "### *args **kwargs"
   ]
  },
  {
   "cell_type": "code",
   "execution_count": 1,
   "metadata": {
    "tags": []
   },
   "outputs": [
    {
     "output_type": "stream",
     "name": "stdout",
     "text": "args: ('a', 'b', 'c')\nkwargs: {}\nargs: (1, 2, 3)\nkwargs: {'legal': True, 'valor': 12.99}\nargs: ('Ana', False, [1, 2, 3])\nkwargs: {'tamanho': 'M', 'fragil': False}\nargs: ()\nkwargs: {'primeiro': 'João', 'segundo': 'Maria'}\nargs: ('Maria',)\nkwargs: {'primeiro': 'João'}\n"
    }
   ],
   "source": [
    "def todos_params(*args, **kwargs):\n",
    "    print(f'args: {args}')\n",
    "    print(f'kwargs: {kwargs}')\n",
    "    print('--------------------------------------')\n",
    "\n",
    "\n",
    "if __name__ == '__main__':\n",
    "    todos_params('a', 'b', 'c')\n",
    "    todos_params(1, 2, 3, legal=True, valor=12.99)\n",
    "    todos_params('Ana', False, [1, 2, 3], tamanho='M', fragil=False)\n",
    "    todos_params(primeiro='João', segundo='Maria')\n",
    "    todos_params('Maria', primeiro='João')"
   ]
  },
  {
   "cell_type": "code",
   "execution_count": 4,
   "metadata": {},
   "outputs": [
    {
     "output_type": "execute_result",
     "data": {
      "text/plain": "1"
     },
     "metadata": {},
     "execution_count": 4
    }
   ],
   "source": [
    "pow(20,0)"
   ]
  },
  {
   "cell_type": "code",
   "execution_count": null,
   "metadata": {},
   "outputs": [],
   "source": []
  },
  {
   "cell_type": "code",
   "execution_count": null,
   "metadata": {},
   "outputs": [],
   "source": []
  },
  {
   "cell_type": "code",
   "execution_count": null,
   "metadata": {},
   "outputs": [],
   "source": []
  },
  {
   "cell_type": "code",
   "execution_count": null,
   "metadata": {},
   "outputs": [],
   "source": []
  },
  {
   "cell_type": "code",
   "execution_count": null,
   "metadata": {},
   "outputs": [],
   "source": []
  },
  {
   "cell_type": "code",
   "execution_count": null,
   "metadata": {},
   "outputs": [],
   "source": []
  },
  {
   "cell_type": "code",
   "execution_count": null,
   "metadata": {},
   "outputs": [],
   "source": []
  },
  {
   "cell_type": "code",
   "execution_count": null,
   "metadata": {},
   "outputs": [],
   "source": []
  },
  {
   "cell_type": "code",
   "execution_count": null,
   "metadata": {},
   "outputs": [],
   "source": []
  },
  {
   "cell_type": "code",
   "execution_count": null,
   "metadata": {},
   "outputs": [],
   "source": []
  }
 ]
}