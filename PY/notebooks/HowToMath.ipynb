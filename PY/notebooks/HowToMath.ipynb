{
 "metadata": {
  "language_info": {
   "codemirror_mode": {
    "name": "ipython",
    "version": 3
   },
   "file_extension": ".py",
   "mimetype": "text/x-python",
   "name": "python",
   "nbconvert_exporter": "python",
   "pygments_lexer": "ipython3",
   "version": "3.6.9-final"
  },
  "orig_nbformat": 2,
  "kernelspec": {
   "name": "python_defaultSpec_1598722969480",
   "display_name": "Python 3.6.9 64-bit"
  }
 },
 "nbformat": 4,
 "nbformat_minor": 2,
 "cells": [
  {
   "cell_type": "markdown",
   "metadata": {},
   "source": [
    "# Precious math tips "
   ]
  },
  {
   "cell_type": "markdown",
   "metadata": {},
   "source": [
    "### Let's get it all in Markdown"
   ]
  },
  {
   "cell_type": "code",
   "execution_count": 2,
   "metadata": {},
   "outputs": [],
   "source": [
    "from IPython.display import Markdown, display\n",
    "def printmd(string):\n",
    "    display(Markdown(string))"
   ]
  },
  {
   "cell_type": "code",
   "execution_count": 86,
   "metadata": {},
   "outputs": [
    {
     "output_type": "display_data",
     "data": {
      "text/plain": "<IPython.core.display.Markdown object>",
      "text/markdown": "$a^{0}=1$"
     },
     "metadata": {}
    },
    {
     "output_type": "display_data",
     "data": {
      "text/plain": "<IPython.core.display.Markdown object>",
      "text/markdown": "$(a^{n})^{m}=a^{n.m}$"
     },
     "metadata": {}
    },
    {
     "output_type": "display_data",
     "data": {
      "text/plain": "<IPython.core.display.Markdown object>",
      "text/markdown": "$a^{n}.a^{m}=a^{n+m}$"
     },
     "metadata": {}
    },
    {
     "output_type": "display_data",
     "data": {
      "text/plain": "<IPython.core.display.Markdown object>",
      "text/markdown": "$\\frac{a^n}{a^m}=a^{n-m}$"
     },
     "metadata": {}
    },
    {
     "output_type": "display_data",
     "data": {
      "text/plain": "<IPython.core.display.Markdown object>",
      "text/markdown": "$(a.b)^{n}=a^{n}.b^{n}$"
     },
     "metadata": {}
    },
    {
     "output_type": "display_data",
     "data": {
      "text/plain": "<IPython.core.display.Markdown object>",
      "text/markdown": "$(\\frac{a}{b})^{n}=\\frac{a^n}{b^n}$"
     },
     "metadata": {}
    },
    {
     "output_type": "display_data",
     "data": {
      "text/plain": "<IPython.core.display.Markdown object>",
      "text/markdown": "$a^{-m}=\\frac{1}{a^m}$"
     },
     "metadata": {}
    },
    {
     "output_type": "display_data",
     "data": {
      "text/plain": "<IPython.core.display.Markdown object>",
      "text/markdown": "$a^{\\frac{n}{m}}=\\sqrt[m]{a^n}$"
     },
     "metadata": {}
    },
    {
     "output_type": "display_data",
     "data": {
      "text/plain": "<IPython.core.display.Markdown object>",
      "text/markdown": "$\\log_{b}{a}=c \\rightarrow b^{c}=a$"
     },
     "metadata": {}
    },
    {
     "output_type": "display_data",
     "data": {
      "text/plain": "<IPython.core.display.Markdown object>",
      "text/markdown": "$\\log_{b}{a1.a2}=\\log_{b}{a1} + \\log_{b}{a2}$"
     },
     "metadata": {}
    },
    {
     "output_type": "display_data",
     "data": {
      "text/plain": "<IPython.core.display.Markdown object>",
      "text/markdown": "$\\log_{b}{a1}=\\log_{b}{a2} \\rightarrow a1=a2$"
     },
     "metadata": {}
    },
    {
     "output_type": "display_data",
     "data": {
      "text/plain": "<IPython.core.display.Markdown object>",
      "text/markdown": "$(a+b)^{2}=(a+b).(a+b)=a^{2}+2ab+b^{2}$"
     },
     "metadata": {}
    },
    {
     "output_type": "display_data",
     "data": {
      "text/plain": "<IPython.core.display.Markdown object>",
      "text/markdown": "$(a-b)^{2}=(a-b).(a-b)=a^{2}-2ab+b^{2}$"
     },
     "metadata": {}
    },
    {
     "output_type": "display_data",
     "data": {
      "text/plain": "<IPython.core.display.Markdown object>",
      "text/markdown": "$(a+b).(a-b)=a^{2}-b^{2}$"
     },
     "metadata": {}
    },
    {
     "output_type": "display_data",
     "data": {
      "text/plain": "<IPython.core.display.Markdown object>",
      "text/markdown": "$Baskara \\rightarrow x=\\frac{-b \\pm \\sqrt[2]{b^{2}-4.a.c}}{2.a}$"
     },
     "metadata": {}
    }
   ],
   "source": [
    "printmd(\"$a^{0}=1$\")\n",
    "printmd(\"$(a^{n})^{m}=a^{n.m}$\")\n",
    "printmd(\"$a^{n}.a^{m}=a^{n+m}$\")\n",
    "printmd(\"$\\\\frac{a^n}{a^m}=a^{n-m}$\")\n",
    "printmd(\"$(a.b)^{n}=a^{n}.b^{n}$\")\n",
    "printmd(\"$(\\\\frac{a}{b})^{n}=\\\\frac{a^n}{b^n}$\")\n",
    "printmd(\"$a^{-m}=\\\\frac{1}{a^m}$\")\n",
    "printmd(\"$a^{\\\\frac{n}{m}}=\\\\sqrt[m]{a^n}$\")\n",
    "printmd(\"$\\log_{b}{a}=c \\\\rightarrow b^{c}=a$\")\n",
    "printmd(\"$\\log_{b}{a1.a2}=\\log_{b}{a1} + \\log_{b}{a2}$\")\n",
    "printmd(\"$\\log_{b}{a1}=\\log_{b}{a2} \\\\rightarrow a1=a2$\")\n",
    "printmd(\"$(a+b)^{2}=(a+b).(a+b)=a^{2}+2ab+b^{2}$\")\n",
    "printmd(\"$(a-b)^{2}=(a-b).(a-b)=a^{2}-2ab+b^{2}$\")\n",
    "printmd(\"$(a+b).(a-b)=a^{2}-b^{2}$\")\n",
    "printmd(\"$Baskara \\\\rightarrow x=\\\\frac{-b \\pm \\\\sqrt[2]{b^{2}-4.a.c}}{2.a}$\")"
   ]
  },
  {
   "cell_type": "code",
   "execution_count": null,
   "metadata": {},
   "outputs": [],
   "source": []
  },
  {
   "cell_type": "code",
   "execution_count": 36,
   "metadata": {
    "tags": []
   },
   "outputs": [
    {
     "output_type": "stream",
     "name": "stdout",
     "text": "Powering by zero\n"
    },
    {
     "output_type": "display_data",
     "data": {
      "text/plain": "<IPython.core.display.Markdown object>",
      "text/markdown": "$a^0=1$"
     },
     "metadata": {}
    },
    {
     "output_type": "display_data",
     "data": {
      "text/plain": "<IPython.core.display.Markdown object>",
      "text/markdown": "$a^0=1$"
     },
     "metadata": {}
    },
    {
     "output_type": "display_data",
     "data": {
      "text/plain": "<IPython.core.display.Markdown object>",
      "text/markdown": "$0^0=1$"
     },
     "metadata": {}
    },
    {
     "output_type": "display_data",
     "data": {
      "text/plain": "<IPython.core.display.Markdown object>",
      "text/markdown": "$1^0=1$"
     },
     "metadata": {}
    },
    {
     "output_type": "display_data",
     "data": {
      "text/plain": "<IPython.core.display.Markdown object>",
      "text/markdown": "$13^0=1$"
     },
     "metadata": {}
    }
   ],
   "source": [
    "print(\"Powering by zero\")\n",
    "md1 = \"$a1^0=res1$\"\n",
    "printmd(md1.replace(\"a1\", \"a\").replace(\"res1\", \"1\"))\n",
    "printmd(md1.replace(\"a1\", \"0\").replace(\"res1\", str(pow(0,0))))\n",
    "printmd(md1.replace(\"a1\", \"1\").replace(\"res1\", str(pow(1,0))))\n",
    "printmd(md1.replace(\"a1\", \"13\").replace(\"res1\", str(pow(13,0))))"
   ]
  },
  {
   "cell_type": "code",
   "execution_count": 35,
   "metadata": {
    "tags": []
   },
   "outputs": [
    {
     "output_type": "stream",
     "name": "stdout",
     "text": "Powering a powered expression\n"
    },
    {
     "output_type": "display_data",
     "data": {
      "text/plain": "<IPython.core.display.Markdown object>",
      "text/markdown": "$(a^{n})^{m}=a^{n.m}$"
     },
     "metadata": {}
    },
    {
     "output_type": "display_data",
     "data": {
      "text/plain": "<IPython.core.display.Markdown object>",
      "text/markdown": "$(a^{n})^{m}=a^{n.m}$"
     },
     "metadata": {}
    },
    {
     "output_type": "display_data",
     "data": {
      "text/plain": "<IPython.core.display.Markdown object>",
      "text/markdown": "$(a^{n})^{m}=a^{n.m}$"
     },
     "metadata": {}
    },
    {
     "output_type": "display_data",
     "data": {
      "text/plain": "<IPython.core.display.Markdown object>",
      "text/markdown": "$(a^{n})^{m}=a^{n.m}$"
     },
     "metadata": {}
    }
   ],
   "source": [
    "print(\"Powering a powered expression\")\n",
    "md1 = \"$(a2^{pw2a})^{pw2b}=res2$\"\n",
    "printmd(md1.replace(\"a2\", \"a\").replace(\"pw2a\", \"n\").replace(\"pw2b\", \"m\").replace(\"res2\", \"a^{n.m}\"))\n",
    "printmd(md1.replace(\"a2\", \"a\").replace(\"pw2a\", \"n\").replace(\"pw2b\", \"m\").replace(\"res2\", \"a^{n.m}\"))\n",
    "printmd(md1.replace(\"a2\", \"a\").replace(\"pw2a\", \"n\").replace(\"pw2b\", \"m\").replace(\"res2\", \"a^{n.m}\"))\n",
    "printmd(md1.replace(\"a2\", \"a\").replace(\"pw2a\", \"n\").replace(\"pw2b\", \"m\").replace(\"res2\", \"a^{n.m}\"))"
   ]
  },
  {
   "cell_type": "code",
   "execution_count": null,
   "metadata": {},
   "outputs": [],
   "source": []
  },
  {
   "cell_type": "code",
   "execution_count": null,
   "metadata": {},
   "outputs": [],
   "source": []
  },
  {
   "cell_type": "code",
   "execution_count": null,
   "metadata": {},
   "outputs": [],
   "source": []
  },
  {
   "cell_type": "code",
   "execution_count": null,
   "metadata": {},
   "outputs": [],
   "source": []
  },
  {
   "cell_type": "code",
   "execution_count": null,
   "metadata": {},
   "outputs": [],
   "source": []
  },
  {
   "cell_type": "code",
   "execution_count": null,
   "metadata": {},
   "outputs": [],
   "source": []
  },
  {
   "cell_type": "code",
   "execution_count": null,
   "metadata": {},
   "outputs": [],
   "source": []
  },
  {
   "cell_type": "code",
   "execution_count": null,
   "metadata": {},
   "outputs": [],
   "source": []
  },
  {
   "cell_type": "code",
   "execution_count": null,
   "metadata": {},
   "outputs": [],
   "source": []
  },
  {
   "cell_type": "code",
   "execution_count": null,
   "metadata": {},
   "outputs": [],
   "source": []
  },
  {
   "cell_type": "code",
   "execution_count": null,
   "metadata": {},
   "outputs": [],
   "source": []
  },
  {
   "cell_type": "code",
   "execution_count": null,
   "metadata": {},
   "outputs": [],
   "source": []
  },
  {
   "cell_type": "code",
   "execution_count": null,
   "metadata": {},
   "outputs": [],
   "source": []
  }
 ]
}