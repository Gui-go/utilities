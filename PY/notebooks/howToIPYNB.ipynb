{
 "metadata": {
  "language_info": {
   "codemirror_mode": {
    "name": "ipython",
    "version": 3
   },
   "file_extension": ".py",
   "mimetype": "text/x-python",
   "name": "python",
   "nbconvert_exporter": "python",
   "pygments_lexer": "ipython3",
   "version": "3.6.9-final"
  },
  "orig_nbformat": 2,
  "kernelspec": {
   "name": "python_defaultSpec_1597376783545",
   "display_name": "Python 3.6.9 64-bit"
  }
 },
 "nbformat": 4,
 "nbformat_minor": 2,
 "cells": [
  {
   "cell_type": "markdown",
   "metadata": {},
   "source": [
    "# How to ipynb"
   ]
  },
  {
   "cell_type": "markdown",
   "metadata": {},
   "source": [
    "### A few shortcuts to work with ipynb\n",
    "\n",
    "* Scroll up and down your cells with your Up and Down keys.\n",
    "* Press A or B to insert a new cell above or below the active cell.\n",
    "* M will transform the active cell to a Markdown cell.\n",
    "* Y will set the active cell to a code cell.\n",
    "* D + D (D twice) will delete the active cell.\n",
    "* Z will undo cell deletion.\n",
    "* Hold Shift and press Up or Down to select multiple cells at once.\n",
    "* With multiple cells selected, Shift + M will merge your selection.\n",
    "* Ctrl + Shift + -, in edit mode, will split the active cell at the cursor.\n",
    "* You can also click and Shift + Click in the margin to the left of your cells to select them."
   ]
  },
  {
   "cell_type": "markdown",
   "metadata": {},
   "source": [
    "# Here we have a few tips to markdown\n",
    "\n",
    "# This is a level 1 heading\n",
    "## This is a level 2 heading\n",
    "This is some plain text that forms a paragraph.\n",
    "Add emphasis via **bold** and __bold__, or *italic* and _italic_.\n",
    "Paragraphs must be separated by an empty line.\n",
    "* Sometimes we want to include lists.\n",
    "* Which can be indented.\n",
    "1. Lists can also be numbered.\n",
    "2. For ordered lists.\n",
    "[It is possible to include hyperlinks](https://www.example.com)\n",
    "Inline code uses single backticks: `foo()`, and code blocks use triple backticks:\n",
    "```\n",
    "bar()\n",
    "```\n",
    "Or can be indented by 4 spaces:\n",
    "    foo()\n",
    "And finally, adding images is easy: ![Alt text](https://www.example.com/image.jpg)"
   ]
  },
  {
   "cell_type": "markdown",
   "metadata": {},
   "source": [
    "### Let's try a few functions to internalize it"
   ]
  },
  {
   "cell_type": "code",
   "execution_count": 4,
   "metadata": {},
   "outputs": [
    {
     "output_type": "execute_result",
     "data": {
      "text/plain": "'Hello, Guigo!'"
     },
     "metadata": {},
     "execution_count": 4
    }
   ],
   "source": [
    "def say_hello(recipient):\n",
    "    return 'Hello, {}!'.format(recipient)\n",
    "say_hello('Guigo')"
   ]
  },
  {
   "cell_type": "code",
   "execution_count": 5,
   "metadata": {},
   "outputs": [],
   "source": [
    "import numpy as np\n",
    "def square(x):\n",
    "    return x * x"
   ]
  },
  {
   "cell_type": "code",
   "execution_count": 6,
   "metadata": {
    "tags": []
   },
   "outputs": [
    {
     "output_type": "stream",
     "name": "stdout",
     "text": "7 squared is 49\n"
    }
   ],
   "source": [
    "x = np.random.randint(2, 10)\n",
    "y = square(x)\n",
    "print('%d squared is %d' % (x, y))"
   ]
  },
  {
   "cell_type": "code",
   "execution_count": 7,
   "metadata": {
    "tags": []
   },
   "outputs": [
    {
     "output_type": "stream",
     "name": "stdout",
     "text": "Is 7 squared is 49?\n"
    }
   ],
   "source": [
    "print('Is %d squared is %d?' % (x, y))"
   ]
  },
  {
   "cell_type": "code",
   "execution_count": 8,
   "metadata": {},
   "outputs": [],
   "source": [
    "import pandas as pd\n",
    "import matplotlib.pyplot as plt\n",
    "import seaborn as sns\n",
    "sns.set(style=\"darkgrid\")"
   ]
  },
  {
   "cell_type": "code",
   "execution_count": 9,
   "metadata": {},
   "outputs": [],
   "source": [
    "df = pd.read_csv('locations.csv')"
   ]
  },
  {
   "cell_type": "code",
   "execution_count": 10,
   "metadata": {},
   "outputs": [
    {
     "output_type": "execute_result",
     "data": {
      "text/plain": "                         id                                      name  \\\n0  4e0f8aaa22711665f61fb277  Complexo Poliesportivo Alcântara Machado   \n1  4bc22839f8219c743865b410                   Parque da Independência   \n2  4b12c1aaf964a520808d23e3                       Parque da Aclimação   \n3  4e2c66bed164223a698be2d2                            Pista De Skate   \n4  4eecb0f6b634f75442580fa6                       Quintal do Ipiranga   \n\n         lat        lng neighborhood       city state country  \\\n0 -23.553122 -46.614588          NaN  São Paulo    SP  Brasil   \n1 -23.584448 -46.609788          NaN  São Paulo    SP  Brasil   \n2 -23.573422 -46.629266          NaN  São Paulo    SP  Brasil   \n3 -23.581813 -46.610047          NaN  São Paulo    SP  Brasil   \n4 -23.583221 -46.609953          NaN  São Paulo    SP  Brasil   \n\n                           address  \\\n0  Av. Alcântara Machado, 948-1074   \n1                  Av. Nazaré, S/N   \n2          R. Muniz de Sousa, 1119   \n3          Parque da Independência   \n4               Praça do Monumento   \n\n                                    formattedAddress postalCode  \\\n0  ['Av. Alcântara Machado, 948-1074', 'São Paulo...  03102-001   \n1  ['Av. Nazaré, S/N (R. dos Patriotas)', 'São Pa...  04263-000   \n2  ['R. Muniz de Sousa, 1119', 'São Paulo, SP', '...  01534-001   \n3  ['Parque da Independência', 'São Paulo, SP', '...        NaN   \n4  ['Praça do Monumento (Rua dos Patriotas)', 'Sã...  04263-000   \n\n   distance_from_search        categories  verified  \n0                   957  Football Stadium     False  \n1                  3142              Park     False  \n2                  3040              Park     False  \n3                  2855        Skate Park     False  \n4                  3009        Skate Park     False  ",
      "text/html": "<div>\n<style scoped>\n    .dataframe tbody tr th:only-of-type {\n        vertical-align: middle;\n    }\n\n    .dataframe tbody tr th {\n        vertical-align: top;\n    }\n\n    .dataframe thead th {\n        text-align: right;\n    }\n</style>\n<table border=\"1\" class=\"dataframe\">\n  <thead>\n    <tr style=\"text-align: right;\">\n      <th></th>\n      <th>id</th>\n      <th>name</th>\n      <th>lat</th>\n      <th>lng</th>\n      <th>neighborhood</th>\n      <th>city</th>\n      <th>state</th>\n      <th>country</th>\n      <th>address</th>\n      <th>formattedAddress</th>\n      <th>postalCode</th>\n      <th>distance_from_search</th>\n      <th>categories</th>\n      <th>verified</th>\n    </tr>\n  </thead>\n  <tbody>\n    <tr>\n      <th>0</th>\n      <td>4e0f8aaa22711665f61fb277</td>\n      <td>Complexo Poliesportivo Alcântara Machado</td>\n      <td>-23.553122</td>\n      <td>-46.614588</td>\n      <td>NaN</td>\n      <td>São Paulo</td>\n      <td>SP</td>\n      <td>Brasil</td>\n      <td>Av. Alcântara Machado, 948-1074</td>\n      <td>['Av. Alcântara Machado, 948-1074', 'São Paulo...</td>\n      <td>03102-001</td>\n      <td>957</td>\n      <td>Football Stadium</td>\n      <td>False</td>\n    </tr>\n    <tr>\n      <th>1</th>\n      <td>4bc22839f8219c743865b410</td>\n      <td>Parque da Independência</td>\n      <td>-23.584448</td>\n      <td>-46.609788</td>\n      <td>NaN</td>\n      <td>São Paulo</td>\n      <td>SP</td>\n      <td>Brasil</td>\n      <td>Av. Nazaré, S/N</td>\n      <td>['Av. Nazaré, S/N (R. dos Patriotas)', 'São Pa...</td>\n      <td>04263-000</td>\n      <td>3142</td>\n      <td>Park</td>\n      <td>False</td>\n    </tr>\n    <tr>\n      <th>2</th>\n      <td>4b12c1aaf964a520808d23e3</td>\n      <td>Parque da Aclimação</td>\n      <td>-23.573422</td>\n      <td>-46.629266</td>\n      <td>NaN</td>\n      <td>São Paulo</td>\n      <td>SP</td>\n      <td>Brasil</td>\n      <td>R. Muniz de Sousa, 1119</td>\n      <td>['R. Muniz de Sousa, 1119', 'São Paulo, SP', '...</td>\n      <td>01534-001</td>\n      <td>3040</td>\n      <td>Park</td>\n      <td>False</td>\n    </tr>\n    <tr>\n      <th>3</th>\n      <td>4e2c66bed164223a698be2d2</td>\n      <td>Pista De Skate</td>\n      <td>-23.581813</td>\n      <td>-46.610047</td>\n      <td>NaN</td>\n      <td>São Paulo</td>\n      <td>SP</td>\n      <td>Brasil</td>\n      <td>Parque da Independência</td>\n      <td>['Parque da Independência', 'São Paulo, SP', '...</td>\n      <td>NaN</td>\n      <td>2855</td>\n      <td>Skate Park</td>\n      <td>False</td>\n    </tr>\n    <tr>\n      <th>4</th>\n      <td>4eecb0f6b634f75442580fa6</td>\n      <td>Quintal do Ipiranga</td>\n      <td>-23.583221</td>\n      <td>-46.609953</td>\n      <td>NaN</td>\n      <td>São Paulo</td>\n      <td>SP</td>\n      <td>Brasil</td>\n      <td>Praça do Monumento</td>\n      <td>['Praça do Monumento (Rua dos Patriotas)', 'Sã...</td>\n      <td>04263-000</td>\n      <td>3009</td>\n      <td>Skate Park</td>\n      <td>False</td>\n    </tr>\n  </tbody>\n</table>\n</div>"
     },
     "metadata": {},
     "execution_count": 10
    }
   ],
   "source": [
    "df.head()"
   ]
  },
  {
   "cell_type": "code",
   "execution_count": 11,
   "metadata": {},
   "outputs": [
    {
     "output_type": "execute_result",
     "data": {
      "text/plain": "                          id  \\\n25  4b0588c7f964a520d9d922e3   \n26  4ded7e74c65bf34fc6d7594c   \n27  4c2f86987cc0c9b6dae0eb9a   \n28  4fde7641e4b09473e246ec7a   \n29  51cdd1b3498e0f0c9de7415b   \n\n                                                 name        lat        lng  \\\n25                                  Parque Ibirapuera -23.589897 -46.660220   \n26                                     Pista de Skate -23.506545 -46.617104   \n27  Parque Ecológico Vila Prudente (Profª Lydia Na... -23.585876 -46.567834   \n28                              Praça Paulo Kobayashi -23.551197 -46.640514   \n29                                        Skate Livre -23.547841 -46.647405   \n\n   neighborhood       city state country                            address  \\\n25   Ibirapuera  São Paulo    SP  Brasil      Av. Pedro Álvares Cabral, s/n   \n26          NaN  São Paulo    SP  Brasil                  Prq. da Juventude   \n27          NaN  São Paulo    SP  Brasil  Av. Jacinto Menezes Palhares, 870   \n28          NaN  São Paulo    SP  Brasil                    Rua Maria Paula   \n29          NaN  São Paulo    SP  Brasil           Praça Franklin Roosevelt   \n\n                                     formattedAddress postalCode  \\\n25  ['Av. Pedro Álvares Cabral, s/n (Av. Rep. do L...  04094-050   \n26   ['Prq. da Juventude', 'São Paulo, SP', 'Brasil']        NaN   \n27  ['Av. Jacinto Menezes Palhares, 870 (R. João P...  03227-170   \n28  ['Rua Maria Paula (Rua Santo Amaro)', 'São Pau...        NaN   \n29  ['Praça Franklin Roosevelt (Rua Consolação)', ...        NaN   \n\n    distance_from_search  categories  verified  \n25                  6674        Park      True  \n26                  5669  Skate Park     False  \n27                  5083        Park     False  \n28                  3576       Plaza     False  \n29                  4339  Skate Park     False  ",
      "text/html": "<div>\n<style scoped>\n    .dataframe tbody tr th:only-of-type {\n        vertical-align: middle;\n    }\n\n    .dataframe tbody tr th {\n        vertical-align: top;\n    }\n\n    .dataframe thead th {\n        text-align: right;\n    }\n</style>\n<table border=\"1\" class=\"dataframe\">\n  <thead>\n    <tr style=\"text-align: right;\">\n      <th></th>\n      <th>id</th>\n      <th>name</th>\n      <th>lat</th>\n      <th>lng</th>\n      <th>neighborhood</th>\n      <th>city</th>\n      <th>state</th>\n      <th>country</th>\n      <th>address</th>\n      <th>formattedAddress</th>\n      <th>postalCode</th>\n      <th>distance_from_search</th>\n      <th>categories</th>\n      <th>verified</th>\n    </tr>\n  </thead>\n  <tbody>\n    <tr>\n      <th>25</th>\n      <td>4b0588c7f964a520d9d922e3</td>\n      <td>Parque Ibirapuera</td>\n      <td>-23.589897</td>\n      <td>-46.660220</td>\n      <td>Ibirapuera</td>\n      <td>São Paulo</td>\n      <td>SP</td>\n      <td>Brasil</td>\n      <td>Av. Pedro Álvares Cabral, s/n</td>\n      <td>['Av. Pedro Álvares Cabral, s/n (Av. Rep. do L...</td>\n      <td>04094-050</td>\n      <td>6674</td>\n      <td>Park</td>\n      <td>True</td>\n    </tr>\n    <tr>\n      <th>26</th>\n      <td>4ded7e74c65bf34fc6d7594c</td>\n      <td>Pista de Skate</td>\n      <td>-23.506545</td>\n      <td>-46.617104</td>\n      <td>NaN</td>\n      <td>São Paulo</td>\n      <td>SP</td>\n      <td>Brasil</td>\n      <td>Prq. da Juventude</td>\n      <td>['Prq. da Juventude', 'São Paulo, SP', 'Brasil']</td>\n      <td>NaN</td>\n      <td>5669</td>\n      <td>Skate Park</td>\n      <td>False</td>\n    </tr>\n    <tr>\n      <th>27</th>\n      <td>4c2f86987cc0c9b6dae0eb9a</td>\n      <td>Parque Ecológico Vila Prudente (Profª Lydia Na...</td>\n      <td>-23.585876</td>\n      <td>-46.567834</td>\n      <td>NaN</td>\n      <td>São Paulo</td>\n      <td>SP</td>\n      <td>Brasil</td>\n      <td>Av. Jacinto Menezes Palhares, 870</td>\n      <td>['Av. Jacinto Menezes Palhares, 870 (R. João P...</td>\n      <td>03227-170</td>\n      <td>5083</td>\n      <td>Park</td>\n      <td>False</td>\n    </tr>\n    <tr>\n      <th>28</th>\n      <td>4fde7641e4b09473e246ec7a</td>\n      <td>Praça Paulo Kobayashi</td>\n      <td>-23.551197</td>\n      <td>-46.640514</td>\n      <td>NaN</td>\n      <td>São Paulo</td>\n      <td>SP</td>\n      <td>Brasil</td>\n      <td>Rua Maria Paula</td>\n      <td>['Rua Maria Paula (Rua Santo Amaro)', 'São Pau...</td>\n      <td>NaN</td>\n      <td>3576</td>\n      <td>Plaza</td>\n      <td>False</td>\n    </tr>\n    <tr>\n      <th>29</th>\n      <td>51cdd1b3498e0f0c9de7415b</td>\n      <td>Skate Livre</td>\n      <td>-23.547841</td>\n      <td>-46.647405</td>\n      <td>NaN</td>\n      <td>São Paulo</td>\n      <td>SP</td>\n      <td>Brasil</td>\n      <td>Praça Franklin Roosevelt</td>\n      <td>['Praça Franklin Roosevelt (Rua Consolação)', ...</td>\n      <td>NaN</td>\n      <td>4339</td>\n      <td>Skate Park</td>\n      <td>False</td>\n    </tr>\n  </tbody>\n</table>\n</div>"
     },
     "metadata": {},
     "execution_count": 11
    }
   ],
   "source": [
    "df.tail()"
   ]
  },
  {
   "cell_type": "code",
   "execution_count": 27,
   "metadata": {},
   "outputs": [],
   "source": [
    "df = df[['name', 'lat', 'lng', 'city', 'categories', 'verified']]"
   ]
  },
  {
   "cell_type": "code",
   "execution_count": 29,
   "metadata": {},
   "outputs": [],
   "source": [
    "df.columns = ['nm', 'lat', 'lng', 'ct', 'ctg', 'vfd']"
   ]
  },
  {
   "cell_type": "code",
   "execution_count": 31,
   "metadata": {},
   "outputs": [
    {
     "output_type": "execute_result",
     "data": {
      "text/plain": "30"
     },
     "metadata": {},
     "execution_count": 31
    }
   ],
   "source": [
    "len(df)"
   ]
  },
  {
   "cell_type": "code",
   "execution_count": 65,
   "metadata": {},
   "outputs": [
    {
     "output_type": "execute_result",
     "data": {
      "text/plain": "(21, 6)"
     },
     "metadata": {},
     "execution_count": 65
    }
   ],
   "source": [
    "df.shape"
   ]
  },
  {
   "cell_type": "code",
   "execution_count": 32,
   "metadata": {},
   "outputs": [
    {
     "output_type": "execute_result",
     "data": {
      "text/plain": "nm      object\nlat    float64\nlng    float64\nct      object\nctg     object\nvfd       bool\ndtype: object"
     },
     "metadata": {},
     "execution_count": 32
    }
   ],
   "source": [
    "df.dtypes"
   ]
  },
  {
   "cell_type": "markdown",
   "metadata": {},
   "source": [
    "### Checking if there is any NA data"
   ]
  },
  {
   "cell_type": "code",
   "execution_count": 40,
   "metadata": {},
   "outputs": [
    {
     "output_type": "execute_result",
     "data": {
      "text/plain": "nm     False\nlat    False\nlng    False\nct      True\nctg    False\nvfd    False\ndtype: bool"
     },
     "metadata": {},
     "execution_count": 40
    }
   ],
   "source": [
    "df.isnull().any()"
   ]
  },
  {
   "cell_type": "code",
   "execution_count": 68,
   "metadata": {},
   "outputs": [],
   "source": [
    "rideble = df.ctg.isin(['Park', 'Skate Park', 'Plaza', 'Recreation Center'])\n",
    "df = df[rideble]"
   ]
  },
  {
   "cell_type": "code",
   "execution_count": 69,
   "metadata": {},
   "outputs": [],
   "source": [
    "plt.rcParams['figure.figsize'] = [12, 8]"
   ]
  },
  {
   "cell_type": "code",
   "execution_count": 79,
   "metadata": {},
   "outputs": [
    {
     "output_type": "display_data",
     "data": {
      "text/plain": "<Figure size 864x576 with 1 Axes>",
      "image/svg+xml": "<?xml version=\"1.0\" encoding=\"utf-8\" standalone=\"no\"?>\n<!DOCTYPE svg PUBLIC \"-//W3C//DTD SVG 1.1//EN\"\n  \"http://www.w3.org/Graphics/SVG/1.1/DTD/svg11.dtd\">\n<!-- Created with matplotlib (https://matplotlib.org/) -->\n<svg height=\"469.425937pt\" version=\"1.1\" viewBox=\"0 0 719.731683 469.425937\" width=\"719.731683pt\" xmlns=\"http://www.w3.org/2000/svg\" xmlns:xlink=\"http://www.w3.org/1999/xlink\">\n <metadata>\n  <rdf:RDF xmlns:cc=\"http://creativecommons.org/ns#\" xmlns:dc=\"http://purl.org/dc/elements/1.1/\" xmlns:rdf=\"http://www.w3.org/1999/02/22-rdf-syntax-ns#\">\n   <cc:Work>\n    <dc:type rdf:resource=\"http://purl.org/dc/dcmitype/StillImage\"/>\n    <dc:date>2020-08-14T01:27:28.664062</dc:date>\n    <dc:format>image/svg+xml</dc:format>\n    <dc:creator>\n     <cc:Agent>\n      <dc:title>Matplotlib v3.3.1, https://matplotlib.org/</dc:title>\n     </cc:Agent>\n    </dc:creator>\n   </cc:Work>\n  </rdf:RDF>\n </metadata>\n <defs>\n  <style type=\"text/css\">*{stroke-linecap:butt;stroke-linejoin:round;}</style>\n </defs>\n <g id=\"figure_1\">\n  <g id=\"patch_1\">\n   <path d=\"M 0 469.425937 \nL 719.731683 469.425937 \nL 719.731683 0 \nL 0 0 \nz\n\" style=\"fill:#ffffff;\"/>\n  </g>\n  <g id=\"axes_1\">\n   <g id=\"patch_2\">\n    <path d=\"M 23.69875 442.08 \nL 693.29875 442.08 \nL 693.29875 7.2 \nL 23.69875 7.2 \nz\n\" style=\"fill:#eaeaf2;\"/>\n   </g>\n   <g id=\"matplotlib.axis_1\">\n    <g id=\"xtick_1\">\n     <g id=\"line2d_1\">\n      <path clip-path=\"url(#pb557cb502f)\" d=\"M 54.135114 442.08 \nL 54.135114 7.2 \n\" style=\"fill:none;stroke:#ffffff;stroke-linecap:round;\"/>\n     </g>\n     <g id=\"text_1\">\n      <!-- Park -->\n      <g style=\"fill:#262626;\" transform=\"translate(42.249957 459.938281)scale(0.11 -0.11)\">\n       <defs>\n        <path d=\"M 19.671875 64.796875 \nL 19.671875 37.40625 \nL 32.078125 37.40625 \nQ 38.96875 37.40625 42.71875 40.96875 \nQ 46.484375 44.53125 46.484375 51.125 \nQ 46.484375 57.671875 42.71875 61.234375 \nQ 38.96875 64.796875 32.078125 64.796875 \nz\nM 9.8125 72.90625 \nL 32.078125 72.90625 \nQ 44.34375 72.90625 50.609375 67.359375 \nQ 56.890625 61.8125 56.890625 51.125 \nQ 56.890625 40.328125 50.609375 34.8125 \nQ 44.34375 29.296875 32.078125 29.296875 \nL 19.671875 29.296875 \nL 19.671875 0 \nL 9.8125 0 \nz\n\" id=\"DejaVuSans-80\"/>\n        <path d=\"M 34.28125 27.484375 \nQ 23.390625 27.484375 19.1875 25 \nQ 14.984375 22.515625 14.984375 16.5 \nQ 14.984375 11.71875 18.140625 8.90625 \nQ 21.296875 6.109375 26.703125 6.109375 \nQ 34.1875 6.109375 38.703125 11.40625 \nQ 43.21875 16.703125 43.21875 25.484375 \nL 43.21875 27.484375 \nz\nM 52.203125 31.203125 \nL 52.203125 0 \nL 43.21875 0 \nL 43.21875 8.296875 \nQ 40.140625 3.328125 35.546875 0.953125 \nQ 30.953125 -1.421875 24.3125 -1.421875 \nQ 15.921875 -1.421875 10.953125 3.296875 \nQ 6 8.015625 6 15.921875 \nQ 6 25.140625 12.171875 29.828125 \nQ 18.359375 34.515625 30.609375 34.515625 \nL 43.21875 34.515625 \nL 43.21875 35.40625 \nQ 43.21875 41.609375 39.140625 45 \nQ 35.0625 48.390625 27.6875 48.390625 \nQ 23 48.390625 18.546875 47.265625 \nQ 14.109375 46.140625 10.015625 43.890625 \nL 10.015625 52.203125 \nQ 14.9375 54.109375 19.578125 55.046875 \nQ 24.21875 56 28.609375 56 \nQ 40.484375 56 46.34375 49.84375 \nQ 52.203125 43.703125 52.203125 31.203125 \nz\n\" id=\"DejaVuSans-97\"/>\n        <path d=\"M 41.109375 46.296875 \nQ 39.59375 47.171875 37.8125 47.578125 \nQ 36.03125 48 33.890625 48 \nQ 26.265625 48 22.1875 43.046875 \nQ 18.109375 38.09375 18.109375 28.8125 \nL 18.109375 0 \nL 9.078125 0 \nL 9.078125 54.6875 \nL 18.109375 54.6875 \nL 18.109375 46.1875 \nQ 20.953125 51.171875 25.484375 53.578125 \nQ 30.03125 56 36.53125 56 \nQ 37.453125 56 38.578125 55.875 \nQ 39.703125 55.765625 41.0625 55.515625 \nz\n\" id=\"DejaVuSans-114\"/>\n        <path d=\"M 9.078125 75.984375 \nL 18.109375 75.984375 \nL 18.109375 31.109375 \nL 44.921875 54.6875 \nL 56.390625 54.6875 \nL 27.390625 29.109375 \nL 57.625 0 \nL 45.90625 0 \nL 18.109375 26.703125 \nL 18.109375 0 \nL 9.078125 0 \nz\n\" id=\"DejaVuSans-107\"/>\n       </defs>\n       <use xlink:href=\"#DejaVuSans-80\"/>\n       <use x=\"55.802734\" xlink:href=\"#DejaVuSans-97\"/>\n       <use x=\"117.082031\" xlink:href=\"#DejaVuSans-114\"/>\n       <use x=\"158.195312\" xlink:href=\"#DejaVuSans-107\"/>\n      </g>\n     </g>\n    </g>\n    <g id=\"xtick_2\">\n     <g id=\"line2d_2\">\n      <path clip-path=\"url(#pb557cb502f)\" d=\"M 257.044205 442.08 \nL 257.044205 7.2 \n\" style=\"fill:none;stroke:#ffffff;stroke-linecap:round;\"/>\n     </g>\n     <g id=\"text_2\">\n      <!-- Skate Park -->\n      <g style=\"fill:#262626;\" transform=\"translate(227.919986 459.938281)scale(0.11 -0.11)\">\n       <defs>\n        <path d=\"M 53.515625 70.515625 \nL 53.515625 60.890625 \nQ 47.90625 63.578125 42.921875 64.890625 \nQ 37.9375 66.21875 33.296875 66.21875 \nQ 25.25 66.21875 20.875 63.09375 \nQ 16.5 59.96875 16.5 54.203125 \nQ 16.5 49.359375 19.40625 46.890625 \nQ 22.3125 44.4375 30.421875 42.921875 \nL 36.375 41.703125 \nQ 47.40625 39.59375 52.65625 34.296875 \nQ 57.90625 29 57.90625 20.125 \nQ 57.90625 9.515625 50.796875 4.046875 \nQ 43.703125 -1.421875 29.984375 -1.421875 \nQ 24.8125 -1.421875 18.96875 -0.25 \nQ 13.140625 0.921875 6.890625 3.21875 \nL 6.890625 13.375 \nQ 12.890625 10.015625 18.65625 8.296875 \nQ 24.421875 6.59375 29.984375 6.59375 \nQ 38.421875 6.59375 43.015625 9.90625 \nQ 47.609375 13.234375 47.609375 19.390625 \nQ 47.609375 24.75 44.3125 27.78125 \nQ 41.015625 30.8125 33.5 32.328125 \nL 27.484375 33.5 \nQ 16.453125 35.6875 11.515625 40.375 \nQ 6.59375 45.0625 6.59375 53.421875 \nQ 6.59375 63.09375 13.40625 68.65625 \nQ 20.21875 74.21875 32.171875 74.21875 \nQ 37.3125 74.21875 42.625 73.28125 \nQ 47.953125 72.359375 53.515625 70.515625 \nz\n\" id=\"DejaVuSans-83\"/>\n        <path d=\"M 18.3125 70.21875 \nL 18.3125 54.6875 \nL 36.8125 54.6875 \nL 36.8125 47.703125 \nL 18.3125 47.703125 \nL 18.3125 18.015625 \nQ 18.3125 11.328125 20.140625 9.421875 \nQ 21.96875 7.515625 27.59375 7.515625 \nL 36.8125 7.515625 \nL 36.8125 0 \nL 27.59375 0 \nQ 17.1875 0 13.234375 3.875 \nQ 9.28125 7.765625 9.28125 18.015625 \nL 9.28125 47.703125 \nL 2.6875 47.703125 \nL 2.6875 54.6875 \nL 9.28125 54.6875 \nL 9.28125 70.21875 \nz\n\" id=\"DejaVuSans-116\"/>\n        <path d=\"M 56.203125 29.59375 \nL 56.203125 25.203125 \nL 14.890625 25.203125 \nQ 15.484375 15.921875 20.484375 11.0625 \nQ 25.484375 6.203125 34.421875 6.203125 \nQ 39.59375 6.203125 44.453125 7.46875 \nQ 49.3125 8.734375 54.109375 11.28125 \nL 54.109375 2.78125 \nQ 49.265625 0.734375 44.1875 -0.34375 \nQ 39.109375 -1.421875 33.890625 -1.421875 \nQ 20.796875 -1.421875 13.15625 6.1875 \nQ 5.515625 13.8125 5.515625 26.8125 \nQ 5.515625 40.234375 12.765625 48.109375 \nQ 20.015625 56 32.328125 56 \nQ 43.359375 56 49.78125 48.890625 \nQ 56.203125 41.796875 56.203125 29.59375 \nz\nM 47.21875 32.234375 \nQ 47.125 39.59375 43.09375 43.984375 \nQ 39.0625 48.390625 32.421875 48.390625 \nQ 24.90625 48.390625 20.390625 44.140625 \nQ 15.875 39.890625 15.1875 32.171875 \nz\n\" id=\"DejaVuSans-101\"/>\n        <path id=\"DejaVuSans-32\"/>\n       </defs>\n       <use xlink:href=\"#DejaVuSans-83\"/>\n       <use x=\"63.476562\" xlink:href=\"#DejaVuSans-107\"/>\n       <use x=\"119.636719\" xlink:href=\"#DejaVuSans-97\"/>\n       <use x=\"180.916016\" xlink:href=\"#DejaVuSans-116\"/>\n       <use x=\"220.125\" xlink:href=\"#DejaVuSans-101\"/>\n       <use x=\"281.648438\" xlink:href=\"#DejaVuSans-32\"/>\n       <use x=\"313.435547\" xlink:href=\"#DejaVuSans-80\"/>\n       <use x=\"369.238281\" xlink:href=\"#DejaVuSans-97\"/>\n       <use x=\"430.517578\" xlink:href=\"#DejaVuSans-114\"/>\n       <use x=\"471.630859\" xlink:href=\"#DejaVuSans-107\"/>\n      </g>\n     </g>\n    </g>\n    <g id=\"xtick_3\">\n     <g id=\"line2d_3\">\n      <path clip-path=\"url(#pb557cb502f)\" d=\"M 459.953295 442.08 \nL 459.953295 7.2 \n\" style=\"fill:none;stroke:#ffffff;stroke-linecap:round;\"/>\n     </g>\n     <g id=\"text_3\">\n      <!-- Plaza -->\n      <g style=\"fill:#262626;\" transform=\"translate(445.48142 459.938281)scale(0.11 -0.11)\">\n       <defs>\n        <path d=\"M 9.421875 75.984375 \nL 18.40625 75.984375 \nL 18.40625 0 \nL 9.421875 0 \nz\n\" id=\"DejaVuSans-108\"/>\n        <path d=\"M 5.515625 54.6875 \nL 48.1875 54.6875 \nL 48.1875 46.484375 \nL 14.40625 7.171875 \nL 48.1875 7.171875 \nL 48.1875 0 \nL 4.296875 0 \nL 4.296875 8.203125 \nL 38.09375 47.515625 \nL 5.515625 47.515625 \nz\n\" id=\"DejaVuSans-122\"/>\n       </defs>\n       <use xlink:href=\"#DejaVuSans-80\"/>\n       <use x=\"60.302734\" xlink:href=\"#DejaVuSans-108\"/>\n       <use x=\"88.085938\" xlink:href=\"#DejaVuSans-97\"/>\n       <use x=\"149.365234\" xlink:href=\"#DejaVuSans-122\"/>\n       <use x=\"201.855469\" xlink:href=\"#DejaVuSans-97\"/>\n      </g>\n     </g>\n    </g>\n    <g id=\"xtick_4\">\n     <g id=\"line2d_4\">\n      <path clip-path=\"url(#pb557cb502f)\" d=\"M 662.862386 442.08 \nL 662.862386 7.2 \n\" style=\"fill:none;stroke:#ffffff;stroke-linecap:round;\"/>\n     </g>\n     <g id=\"text_4\">\n      <!-- Recreation Center -->\n      <g style=\"fill:#262626;\" transform=\"translate(613.193089 459.938281)scale(0.11 -0.11)\">\n       <defs>\n        <path d=\"M 44.390625 34.1875 \nQ 47.5625 33.109375 50.5625 29.59375 \nQ 53.5625 26.078125 56.59375 19.921875 \nL 66.609375 0 \nL 56 0 \nL 46.6875 18.703125 \nQ 43.0625 26.03125 39.671875 28.421875 \nQ 36.28125 30.8125 30.421875 30.8125 \nL 19.671875 30.8125 \nL 19.671875 0 \nL 9.8125 0 \nL 9.8125 72.90625 \nL 32.078125 72.90625 \nQ 44.578125 72.90625 50.734375 67.671875 \nQ 56.890625 62.453125 56.890625 51.90625 \nQ 56.890625 45.015625 53.6875 40.46875 \nQ 50.484375 35.9375 44.390625 34.1875 \nz\nM 19.671875 64.796875 \nL 19.671875 38.921875 \nL 32.078125 38.921875 \nQ 39.203125 38.921875 42.84375 42.21875 \nQ 46.484375 45.515625 46.484375 51.90625 \nQ 46.484375 58.296875 42.84375 61.546875 \nQ 39.203125 64.796875 32.078125 64.796875 \nz\n\" id=\"DejaVuSans-82\"/>\n        <path d=\"M 48.78125 52.59375 \nL 48.78125 44.1875 \nQ 44.96875 46.296875 41.140625 47.34375 \nQ 37.3125 48.390625 33.40625 48.390625 \nQ 24.65625 48.390625 19.8125 42.84375 \nQ 14.984375 37.3125 14.984375 27.296875 \nQ 14.984375 17.28125 19.8125 11.734375 \nQ 24.65625 6.203125 33.40625 6.203125 \nQ 37.3125 6.203125 41.140625 7.25 \nQ 44.96875 8.296875 48.78125 10.40625 \nL 48.78125 2.09375 \nQ 45.015625 0.34375 40.984375 -0.53125 \nQ 36.96875 -1.421875 32.421875 -1.421875 \nQ 20.0625 -1.421875 12.78125 6.34375 \nQ 5.515625 14.109375 5.515625 27.296875 \nQ 5.515625 40.671875 12.859375 48.328125 \nQ 20.21875 56 33.015625 56 \nQ 37.15625 56 41.109375 55.140625 \nQ 45.0625 54.296875 48.78125 52.59375 \nz\n\" id=\"DejaVuSans-99\"/>\n        <path d=\"M 9.421875 54.6875 \nL 18.40625 54.6875 \nL 18.40625 0 \nL 9.421875 0 \nz\nM 9.421875 75.984375 \nL 18.40625 75.984375 \nL 18.40625 64.59375 \nL 9.421875 64.59375 \nz\n\" id=\"DejaVuSans-105\"/>\n        <path d=\"M 30.609375 48.390625 \nQ 23.390625 48.390625 19.1875 42.75 \nQ 14.984375 37.109375 14.984375 27.296875 \nQ 14.984375 17.484375 19.15625 11.84375 \nQ 23.34375 6.203125 30.609375 6.203125 \nQ 37.796875 6.203125 41.984375 11.859375 \nQ 46.1875 17.53125 46.1875 27.296875 \nQ 46.1875 37.015625 41.984375 42.703125 \nQ 37.796875 48.390625 30.609375 48.390625 \nz\nM 30.609375 56 \nQ 42.328125 56 49.015625 48.375 \nQ 55.71875 40.765625 55.71875 27.296875 \nQ 55.71875 13.875 49.015625 6.21875 \nQ 42.328125 -1.421875 30.609375 -1.421875 \nQ 18.84375 -1.421875 12.171875 6.21875 \nQ 5.515625 13.875 5.515625 27.296875 \nQ 5.515625 40.765625 12.171875 48.375 \nQ 18.84375 56 30.609375 56 \nz\n\" id=\"DejaVuSans-111\"/>\n        <path d=\"M 54.890625 33.015625 \nL 54.890625 0 \nL 45.90625 0 \nL 45.90625 32.71875 \nQ 45.90625 40.484375 42.875 44.328125 \nQ 39.84375 48.1875 33.796875 48.1875 \nQ 26.515625 48.1875 22.3125 43.546875 \nQ 18.109375 38.921875 18.109375 30.90625 \nL 18.109375 0 \nL 9.078125 0 \nL 9.078125 54.6875 \nL 18.109375 54.6875 \nL 18.109375 46.1875 \nQ 21.34375 51.125 25.703125 53.5625 \nQ 30.078125 56 35.796875 56 \nQ 45.21875 56 50.046875 50.171875 \nQ 54.890625 44.34375 54.890625 33.015625 \nz\n\" id=\"DejaVuSans-110\"/>\n        <path d=\"M 64.40625 67.28125 \nL 64.40625 56.890625 \nQ 59.421875 61.53125 53.78125 63.8125 \nQ 48.140625 66.109375 41.796875 66.109375 \nQ 29.296875 66.109375 22.65625 58.46875 \nQ 16.015625 50.828125 16.015625 36.375 \nQ 16.015625 21.96875 22.65625 14.328125 \nQ 29.296875 6.6875 41.796875 6.6875 \nQ 48.140625 6.6875 53.78125 8.984375 \nQ 59.421875 11.28125 64.40625 15.921875 \nL 64.40625 5.609375 \nQ 59.234375 2.09375 53.4375 0.328125 \nQ 47.65625 -1.421875 41.21875 -1.421875 \nQ 24.65625 -1.421875 15.125 8.703125 \nQ 5.609375 18.84375 5.609375 36.375 \nQ 5.609375 53.953125 15.125 64.078125 \nQ 24.65625 74.21875 41.21875 74.21875 \nQ 47.75 74.21875 53.53125 72.484375 \nQ 59.328125 70.75 64.40625 67.28125 \nz\n\" id=\"DejaVuSans-67\"/>\n       </defs>\n       <use xlink:href=\"#DejaVuSans-82\"/>\n       <use x=\"64.982422\" xlink:href=\"#DejaVuSans-101\"/>\n       <use x=\"126.505859\" xlink:href=\"#DejaVuSans-99\"/>\n       <use x=\"181.486328\" xlink:href=\"#DejaVuSans-114\"/>\n       <use x=\"220.349609\" xlink:href=\"#DejaVuSans-101\"/>\n       <use x=\"281.873047\" xlink:href=\"#DejaVuSans-97\"/>\n       <use x=\"343.152344\" xlink:href=\"#DejaVuSans-116\"/>\n       <use x=\"382.361328\" xlink:href=\"#DejaVuSans-105\"/>\n       <use x=\"410.144531\" xlink:href=\"#DejaVuSans-111\"/>\n       <use x=\"471.326172\" xlink:href=\"#DejaVuSans-110\"/>\n       <use x=\"534.705078\" xlink:href=\"#DejaVuSans-32\"/>\n       <use x=\"566.492188\" xlink:href=\"#DejaVuSans-67\"/>\n       <use x=\"636.316406\" xlink:href=\"#DejaVuSans-101\"/>\n       <use x=\"697.839844\" xlink:href=\"#DejaVuSans-110\"/>\n       <use x=\"761.21875\" xlink:href=\"#DejaVuSans-116\"/>\n       <use x=\"800.427734\" xlink:href=\"#DejaVuSans-101\"/>\n       <use x=\"861.951172\" xlink:href=\"#DejaVuSans-114\"/>\n      </g>\n     </g>\n    </g>\n   </g>\n   <g id=\"matplotlib.axis_2\">\n    <g id=\"ytick_1\">\n     <g id=\"line2d_5\">\n      <path clip-path=\"url(#pb557cb502f)\" d=\"M 23.69875 442.08 \nL 693.29875 442.08 \n\" style=\"fill:none;stroke:#ffffff;stroke-linecap:round;\"/>\n     </g>\n     <g id=\"text_5\">\n      <!-- 0 -->\n      <g style=\"fill:#262626;\" transform=\"translate(7.2 446.259141)scale(0.11 -0.11)\">\n       <defs>\n        <path d=\"M 31.78125 66.40625 \nQ 24.171875 66.40625 20.328125 58.90625 \nQ 16.5 51.421875 16.5 36.375 \nQ 16.5 21.390625 20.328125 13.890625 \nQ 24.171875 6.390625 31.78125 6.390625 \nQ 39.453125 6.390625 43.28125 13.890625 \nQ 47.125 21.390625 47.125 36.375 \nQ 47.125 51.421875 43.28125 58.90625 \nQ 39.453125 66.40625 31.78125 66.40625 \nz\nM 31.78125 74.21875 \nQ 44.046875 74.21875 50.515625 64.515625 \nQ 56.984375 54.828125 56.984375 36.375 \nQ 56.984375 17.96875 50.515625 8.265625 \nQ 44.046875 -1.421875 31.78125 -1.421875 \nQ 19.53125 -1.421875 13.0625 8.265625 \nQ 6.59375 17.96875 6.59375 36.375 \nQ 6.59375 54.828125 13.0625 64.515625 \nQ 19.53125 74.21875 31.78125 74.21875 \nz\n\" id=\"DejaVuSans-48\"/>\n       </defs>\n       <use xlink:href=\"#DejaVuSans-48\"/>\n      </g>\n     </g>\n    </g>\n    <g id=\"ytick_2\">\n     <g id=\"line2d_6\">\n      <path clip-path=\"url(#pb557cb502f)\" d=\"M 23.69875 350.041905 \nL 693.29875 350.041905 \n\" style=\"fill:none;stroke:#ffffff;stroke-linecap:round;\"/>\n     </g>\n     <g id=\"text_6\">\n      <!-- 2 -->\n      <g style=\"fill:#262626;\" transform=\"translate(7.2 354.221045)scale(0.11 -0.11)\">\n       <defs>\n        <path d=\"M 19.1875 8.296875 \nL 53.609375 8.296875 \nL 53.609375 0 \nL 7.328125 0 \nL 7.328125 8.296875 \nQ 12.9375 14.109375 22.625 23.890625 \nQ 32.328125 33.6875 34.8125 36.53125 \nQ 39.546875 41.84375 41.421875 45.53125 \nQ 43.3125 49.21875 43.3125 52.78125 \nQ 43.3125 58.59375 39.234375 62.25 \nQ 35.15625 65.921875 28.609375 65.921875 \nQ 23.96875 65.921875 18.8125 64.3125 \nQ 13.671875 62.703125 7.8125 59.421875 \nL 7.8125 69.390625 \nQ 13.765625 71.78125 18.9375 73 \nQ 24.125 74.21875 28.421875 74.21875 \nQ 39.75 74.21875 46.484375 68.546875 \nQ 53.21875 62.890625 53.21875 53.421875 \nQ 53.21875 48.921875 51.53125 44.890625 \nQ 49.859375 40.875 45.40625 35.40625 \nQ 44.1875 33.984375 37.640625 27.21875 \nQ 31.109375 20.453125 19.1875 8.296875 \nz\n\" id=\"DejaVuSans-50\"/>\n       </defs>\n       <use xlink:href=\"#DejaVuSans-50\"/>\n      </g>\n     </g>\n    </g>\n    <g id=\"ytick_3\">\n     <g id=\"line2d_7\">\n      <path clip-path=\"url(#pb557cb502f)\" d=\"M 23.69875 258.00381 \nL 693.29875 258.00381 \n\" style=\"fill:none;stroke:#ffffff;stroke-linecap:round;\"/>\n     </g>\n     <g id=\"text_7\">\n      <!-- 4 -->\n      <g style=\"fill:#262626;\" transform=\"translate(7.2 262.18295)scale(0.11 -0.11)\">\n       <defs>\n        <path d=\"M 37.796875 64.3125 \nL 12.890625 25.390625 \nL 37.796875 25.390625 \nz\nM 35.203125 72.90625 \nL 47.609375 72.90625 \nL 47.609375 25.390625 \nL 58.015625 25.390625 \nL 58.015625 17.1875 \nL 47.609375 17.1875 \nL 47.609375 0 \nL 37.796875 0 \nL 37.796875 17.1875 \nL 4.890625 17.1875 \nL 4.890625 26.703125 \nz\n\" id=\"DejaVuSans-52\"/>\n       </defs>\n       <use xlink:href=\"#DejaVuSans-52\"/>\n      </g>\n     </g>\n    </g>\n    <g id=\"ytick_4\">\n     <g id=\"line2d_8\">\n      <path clip-path=\"url(#pb557cb502f)\" d=\"M 23.69875 165.965714 \nL 693.29875 165.965714 \n\" style=\"fill:none;stroke:#ffffff;stroke-linecap:round;\"/>\n     </g>\n     <g id=\"text_8\">\n      <!-- 6 -->\n      <g style=\"fill:#262626;\" transform=\"translate(7.2 170.144855)scale(0.11 -0.11)\">\n       <defs>\n        <path d=\"M 33.015625 40.375 \nQ 26.375 40.375 22.484375 35.828125 \nQ 18.609375 31.296875 18.609375 23.390625 \nQ 18.609375 15.53125 22.484375 10.953125 \nQ 26.375 6.390625 33.015625 6.390625 \nQ 39.65625 6.390625 43.53125 10.953125 \nQ 47.40625 15.53125 47.40625 23.390625 \nQ 47.40625 31.296875 43.53125 35.828125 \nQ 39.65625 40.375 33.015625 40.375 \nz\nM 52.59375 71.296875 \nL 52.59375 62.3125 \nQ 48.875 64.0625 45.09375 64.984375 \nQ 41.3125 65.921875 37.59375 65.921875 \nQ 27.828125 65.921875 22.671875 59.328125 \nQ 17.53125 52.734375 16.796875 39.40625 \nQ 19.671875 43.65625 24.015625 45.921875 \nQ 28.375 48.1875 33.59375 48.1875 \nQ 44.578125 48.1875 50.953125 41.515625 \nQ 57.328125 34.859375 57.328125 23.390625 \nQ 57.328125 12.15625 50.6875 5.359375 \nQ 44.046875 -1.421875 33.015625 -1.421875 \nQ 20.359375 -1.421875 13.671875 8.265625 \nQ 6.984375 17.96875 6.984375 36.375 \nQ 6.984375 53.65625 15.1875 63.9375 \nQ 23.390625 74.21875 37.203125 74.21875 \nQ 40.921875 74.21875 44.703125 73.484375 \nQ 48.484375 72.75 52.59375 71.296875 \nz\n\" id=\"DejaVuSans-54\"/>\n       </defs>\n       <use xlink:href=\"#DejaVuSans-54\"/>\n      </g>\n     </g>\n    </g>\n    <g id=\"ytick_5\">\n     <g id=\"line2d_9\">\n      <path clip-path=\"url(#pb557cb502f)\" d=\"M 23.69875 73.927619 \nL 693.29875 73.927619 \n\" style=\"fill:none;stroke:#ffffff;stroke-linecap:round;\"/>\n     </g>\n     <g id=\"text_9\">\n      <!-- 8 -->\n      <g style=\"fill:#262626;\" transform=\"translate(7.2 78.10676)scale(0.11 -0.11)\">\n       <defs>\n        <path d=\"M 31.78125 34.625 \nQ 24.75 34.625 20.71875 30.859375 \nQ 16.703125 27.09375 16.703125 20.515625 \nQ 16.703125 13.921875 20.71875 10.15625 \nQ 24.75 6.390625 31.78125 6.390625 \nQ 38.8125 6.390625 42.859375 10.171875 \nQ 46.921875 13.96875 46.921875 20.515625 \nQ 46.921875 27.09375 42.890625 30.859375 \nQ 38.875 34.625 31.78125 34.625 \nz\nM 21.921875 38.8125 \nQ 15.578125 40.375 12.03125 44.71875 \nQ 8.5 49.078125 8.5 55.328125 \nQ 8.5 64.0625 14.71875 69.140625 \nQ 20.953125 74.21875 31.78125 74.21875 \nQ 42.671875 74.21875 48.875 69.140625 \nQ 55.078125 64.0625 55.078125 55.328125 \nQ 55.078125 49.078125 51.53125 44.71875 \nQ 48 40.375 41.703125 38.8125 \nQ 48.828125 37.15625 52.796875 32.3125 \nQ 56.78125 27.484375 56.78125 20.515625 \nQ 56.78125 9.90625 50.3125 4.234375 \nQ 43.84375 -1.421875 31.78125 -1.421875 \nQ 19.734375 -1.421875 13.25 4.234375 \nQ 6.78125 9.90625 6.78125 20.515625 \nQ 6.78125 27.484375 10.78125 32.3125 \nQ 14.796875 37.15625 21.921875 38.8125 \nz\nM 18.3125 54.390625 \nQ 18.3125 48.734375 21.84375 45.5625 \nQ 25.390625 42.390625 31.78125 42.390625 \nQ 38.140625 42.390625 41.71875 45.5625 \nQ 45.3125 48.734375 45.3125 54.390625 \nQ 45.3125 60.0625 41.71875 63.234375 \nQ 38.140625 66.40625 31.78125 66.40625 \nQ 25.390625 66.40625 21.84375 63.234375 \nQ 18.3125 60.0625 18.3125 54.390625 \nz\n\" id=\"DejaVuSans-56\"/>\n       </defs>\n       <use xlink:href=\"#DejaVuSans-56\"/>\n      </g>\n     </g>\n    </g>\n   </g>\n   <g id=\"patch_3\">\n    <path clip-path=\"url(#pb557cb502f)\" d=\"M 54.135114 442.08 \nL 115.007841 442.08 \nL 115.007841 27.908571 \nL 54.135114 27.908571 \nz\n\" style=\"fill:#4c72b0;stroke:#ffffff;stroke-linejoin:miter;\"/>\n   </g>\n   <g id=\"patch_4\">\n    <path clip-path=\"url(#pb557cb502f)\" d=\"M 115.007841 442.08 \nL 175.880568 442.08 \nL 175.880568 442.08 \nL 115.007841 442.08 \nz\n\" style=\"fill:#4c72b0;stroke:#ffffff;stroke-linejoin:miter;\"/>\n   </g>\n   <g id=\"patch_5\">\n    <path clip-path=\"url(#pb557cb502f)\" d=\"M 175.880568 442.08 \nL 236.753295 442.08 \nL 236.753295 442.08 \nL 175.880568 442.08 \nz\n\" style=\"fill:#4c72b0;stroke:#ffffff;stroke-linejoin:miter;\"/>\n   </g>\n   <g id=\"patch_6\">\n    <path clip-path=\"url(#pb557cb502f)\" d=\"M 236.753295 442.08 \nL 297.626023 442.08 \nL 297.626023 165.965714 \nL 236.753295 165.965714 \nz\n\" style=\"fill:#4c72b0;stroke:#ffffff;stroke-linejoin:miter;\"/>\n   </g>\n   <g id=\"patch_7\">\n    <path clip-path=\"url(#pb557cb502f)\" d=\"M 297.626023 442.08 \nL 358.49875 442.08 \nL 358.49875 442.08 \nL 297.626023 442.08 \nz\n\" style=\"fill:#4c72b0;stroke:#ffffff;stroke-linejoin:miter;\"/>\n   </g>\n   <g id=\"patch_8\">\n    <path clip-path=\"url(#pb557cb502f)\" d=\"M 358.49875 442.08 \nL 419.371477 442.08 \nL 419.371477 442.08 \nL 358.49875 442.08 \nz\n\" style=\"fill:#4c72b0;stroke:#ffffff;stroke-linejoin:miter;\"/>\n   </g>\n   <g id=\"patch_9\">\n    <path clip-path=\"url(#pb557cb502f)\" d=\"M 419.371477 442.08 \nL 480.244205 442.08 \nL 480.244205 211.984762 \nL 419.371477 211.984762 \nz\n\" style=\"fill:#4c72b0;stroke:#ffffff;stroke-linejoin:miter;\"/>\n   </g>\n   <g id=\"patch_10\">\n    <path clip-path=\"url(#pb557cb502f)\" d=\"M 480.244205 442.08 \nL 541.116932 442.08 \nL 541.116932 442.08 \nL 480.244205 442.08 \nz\n\" style=\"fill:#4c72b0;stroke:#ffffff;stroke-linejoin:miter;\"/>\n   </g>\n   <g id=\"patch_11\">\n    <path clip-path=\"url(#pb557cb502f)\" d=\"M 541.116932 442.08 \nL 601.989659 442.08 \nL 601.989659 442.08 \nL 541.116932 442.08 \nz\n\" style=\"fill:#4c72b0;stroke:#ffffff;stroke-linejoin:miter;\"/>\n   </g>\n   <g id=\"patch_12\">\n    <path clip-path=\"url(#pb557cb502f)\" d=\"M 601.989659 442.08 \nL 662.862386 442.08 \nL 662.862386 396.060952 \nL 601.989659 396.060952 \nz\n\" style=\"fill:#4c72b0;stroke:#ffffff;stroke-linejoin:miter;\"/>\n   </g>\n   <g id=\"patch_13\">\n    <path d=\"M 23.69875 442.08 \nL 23.69875 7.2 \n\" style=\"fill:none;stroke:#ffffff;stroke-linecap:square;stroke-linejoin:miter;stroke-width:1.25;\"/>\n   </g>\n   <g id=\"patch_14\">\n    <path d=\"M 693.29875 442.08 \nL 693.29875 7.2 \n\" style=\"fill:none;stroke:#ffffff;stroke-linecap:square;stroke-linejoin:miter;stroke-width:1.25;\"/>\n   </g>\n   <g id=\"patch_15\">\n    <path d=\"M 23.69875 442.08 \nL 693.29875 442.08 \n\" style=\"fill:none;stroke:#ffffff;stroke-linecap:square;stroke-linejoin:miter;stroke-width:1.25;\"/>\n   </g>\n   <g id=\"patch_16\">\n    <path d=\"M 23.69875 7.2 \nL 693.29875 7.2 \n\" style=\"fill:none;stroke:#ffffff;stroke-linecap:square;stroke-linejoin:miter;stroke-width:1.25;\"/>\n   </g>\n  </g>\n </g>\n <defs>\n  <clipPath id=\"pb557cb502f\">\n   <rect height=\"434.88\" width=\"669.6\" x=\"23.69875\" y=\"7.2\"/>\n  </clipPath>\n </defs>\n</svg>\n",
      "image/png": "[encoded data removed]"
     },
     "metadata": {}
    }
   ],
   "source": [
    "#fig=plt.figure(figsize=(12,8), dpi= 100, facecolor='w', edgecolor='k')\n",
    "plt.hist(df.ctg)\n",
    "plt.show()"
   ]
  },
  {
   "cell_type": "code",
   "execution_count": null,
   "metadata": {},
   "outputs": [],
   "source": []
  }
 ]
}