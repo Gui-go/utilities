{
 "metadata": {
  "language_info": {
   "codemirror_mode": {
    "name": "ipython",
    "version": 3
   },
   "file_extension": ".py",
   "mimetype": "text/x-python",
   "name": "python",
   "nbconvert_exporter": "python",
   "pygments_lexer": "ipython3",
   "version": "3.6.9-final"
  },
  "orig_nbformat": 2,
  "kernelspec": {
   "name": "python_defaultSpec_1597456420791",
   "display_name": "Python 3.6.9 64-bit"
  }
 },
 "nbformat": 4,
 "nbformat_minor": 2,
 "cells": [
  {
   "cell_type": "code",
   "execution_count": null,
   "metadata": {},
   "outputs": [],
   "source": []
  },
  {
   "cell_type": "code",
   "execution_count": null,
   "metadata": {},
   "outputs": [],
   "source": []
  },
  {
   "cell_type": "markdown",
   "metadata": {},
   "source": [
    "### Enumerate function with for loops"
   ]
  },
  {
   "cell_type": "code",
   "execution_count": 2,
   "metadata": {
    "tags": []
   },
   "outputs": [
    {
     "output_type": "stream",
     "name": "stdout",
     "text": "1) R\n2) Python\n3) JS\n4) CSS\n5) Docker\n"
    }
   ],
   "source": [
    "items = ['R', 'Python', 'JS', 'CSS', 'Docker']\n",
    "for index, item in enumerate(items):\n",
    "    print(f'{index + 1})', item)"
   ]
  },
  {
   "cell_type": "markdown",
   "metadata": {},
   "source": [
    "### For oops with dictionaries\n",
    "#### Obs.: The variables used within a loop can still be accessed outside it"
   ]
  },
  {
   "cell_type": "code",
   "execution_count": null,
   "metadata": {},
   "outputs": [],
   "source": [
    "produto = {'nome': 'Caneta Chic', 'preco': 14.99,\n",
    "           'importada': True, 'estoque': 793}\n",
    "\n",
    "for chave in produto:\n",
    "    print(chave)\n",
    "\n",
    "for valor in produto.values():\n",
    "    print(valor)\n",
    "\n",
    "for chave, valor in produto.items():\n",
    "    print(chave, '=', valor)\n",
    "\n",
    "print(chave, valor)"
   ]
  },
  {
   "cell_type": "markdown",
   "metadata": {},
   "source": [
    "### Break and Continue"
   ]
  },
  {
   "cell_type": "code",
   "execution_count": 11,
   "metadata": {
    "tags": []
   },
   "outputs": [
    {
     "output_type": "stream",
     "name": "stdout",
     "text": "continue when it's even, print when it's odd\n1\n3\n5\n7\n9\n\n\nbreak when it reaches 5\n1\n2\n3\n4\n\n\nbreak when it reaches 5\n1\n2\n3\n4\n5\n"
    }
   ],
   "source": [
    "print('continue when it\\'s even, print when it\\'s odd')\n",
    "for x in range(1, 11):\n",
    "    if x % 2 == 0:\n",
    "        continue\n",
    "    print(x)\n",
    "\n",
    "print('\\n')\n",
    "print('break when it reaches 5')\n",
    "for x in range(1, 11):\n",
    "    if x == 5:\n",
    "        break\n",
    "    print(x)"
   ]
  },
  {
   "cell_type": "markdown",
   "metadata": {},
   "source": [
    "### Another example with break and continue\n",
    "##### get a random number between \\[1, 6\\] and run an ascending for loop, if the looped number is odd nothing happens, if it's an even random number print 'Acentou!' and break the cycle, and if it's odd random number run through all the loop and, finally, print 'Não acertou o número' "
   ]
  },
  {
   "cell_type": "code",
   "execution_count": 21,
   "metadata": {
    "tags": []
   },
   "outputs": [
    {
     "output_type": "stream",
     "name": "stdout",
     "text": "ACERTOU 2\n"
    }
   ],
   "source": [
    "from random import randint\n",
    "\n",
    "def sortear_dado():\n",
    "    return randint(1, 6)\n",
    "\n",
    "for i in range(1, 7):\n",
    "    if i % 2 == 1:\n",
    "        continue\n",
    "\n",
    "    if sortear_dado() == i:\n",
    "        print('ACERTOU', i)\n",
    "        break\n",
    "else:\n",
    "    print('Não acertou o número!')"
   ]
  },
  {
   "cell_type": "markdown",
   "metadata": {},
   "source": [
    "### Simulating a switch\n",
    "##### Python doesn't have any switch statement\n",
    "##### If it's any of these cases print the value, else print ** inválido **"
   ]
  },
  {
   "cell_type": "code",
   "execution_count": 23,
   "metadata": {
    "tags": []
   },
   "outputs": [
    {
     "output_type": "stream",
     "name": "stdout",
     "text": "0: ** inválido **\n1: Domingo\n2: Segunda\n3: Terça\n4: Quarta\n5: Quinta\n6: Sexta\n7: Sábado\n8: ** inválido **\n9: ** inválido **\n10: ** inválido **\n11: ** inválido **\n"
    }
   ],
   "source": [
    "def get_dia_semana(dia):\n",
    "    dias = {\n",
    "        1: 'Domingo',\n",
    "        2: 'Segunda',\n",
    "        3: 'Terça',\n",
    "        4: 'Quarta',\n",
    "        5: 'Quinta',\n",
    "        6: 'Sexta',\n",
    "        7: 'Sábado',\n",
    "    }\n",
    "    return dias.get(dia, '** inválido **')\n",
    "\n",
    "for dia in range(0, 12):\n",
    "        print(f'{dia}: {get_dia_semana(dia)}')"
   ]
  },
  {
   "cell_type": "code",
   "execution_count": null,
   "metadata": {},
   "outputs": [],
   "source": []
  },
  {
   "cell_type": "code",
   "execution_count": null,
   "metadata": {},
   "outputs": [],
   "source": []
  },
  {
   "cell_type": "code",
   "execution_count": null,
   "metadata": {},
   "outputs": [],
   "source": []
  },
  {
   "cell_type": "code",
   "execution_count": null,
   "metadata": {},
   "outputs": [],
   "source": []
  },
  {
   "cell_type": "code",
   "execution_count": null,
   "metadata": {},
   "outputs": [],
   "source": []
  },
  {
   "cell_type": "code",
   "execution_count": null,
   "metadata": {},
   "outputs": [],
   "source": []
  }
 ]
}