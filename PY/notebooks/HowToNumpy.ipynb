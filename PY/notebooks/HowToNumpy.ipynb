{
 "metadata": {
  "language_info": {
   "codemirror_mode": {
    "name": "ipython",
    "version": 3
   },
   "file_extension": ".py",
   "mimetype": "text/x-python",
   "name": "python",
   "nbconvert_exporter": "python",
   "pygments_lexer": "ipython3",
   "version": "3.6.9-final"
  },
  "orig_nbformat": 2,
  "kernelspec": {
   "name": "python_defaultSpec_1598674368368",
   "display_name": "Python 3.6.9 64-bit"
  }
 },
 "nbformat": 4,
 "nbformat_minor": 2,
 "cells": [
  {
   "cell_type": "markdown",
   "metadata": {},
   "source": [
    "### How to Do Linear Regression in Python"
   ]
  },
  {
   "cell_type": "code",
   "execution_count": 1,
   "metadata": {},
   "outputs": [],
   "source": [
    "import numpy as np"
   ]
  },
  {
   "cell_type": "code",
   "execution_count": 39,
   "metadata": {
    "tags": []
   },
   "outputs": [
    {
     "output_type": "stream",
     "name": "stdout",
     "text": "[1 1 2 1 1]\n[1 1 0 0 8]\n"
    }
   ],
   "source": [
    "a = np.random.randint(1,3,5) # from, to, n\n",
    "b = np.random.randint(0,10,5) # from, to, n\n",
    "print(a)\n",
    "print(b)"
   ]
  },
  {
   "cell_type": "code",
   "execution_count": 40,
   "metadata": {
    "tags": []
   },
   "outputs": [
    {
     "output_type": "stream",
     "name": "stdout",
     "text": "[ 0  0 -2 -1  7]\n[2 2 2 1 9]\n[1.    1.      inf   inf 0.125]\n[1 1 0 0 8]\n"
    }
   ],
   "source": [
    "print(np.subtract(b,a)) # Subtrair elemento a elemento\n",
    "print(np.add(b,a)) # Somar elemento a elemento\n",
    "print(np.divide(a,b))  # Dividir elemento a elemento\n",
    "print(np.multiply(a,b))  # Multiplicar elemento a elemento"
   ]
  },
  {
   "cell_type": "code",
   "execution_count": 41,
   "metadata": {
    "tags": []
   },
   "outputs": [
    {
     "output_type": "stream",
     "name": "stdout",
     "text": "[2.71828183 2.71828183 7.3890561  2.71828183 2.71828183]\n[1.         1.         1.41421356 1.         1.        ]\n[0.84147098 0.84147098 0.90929743 0.84147098 0.84147098]\n[0.         0.         0.69314718 0.         0.        ]\n[0. 0. 1. 0. 0.]\n"
    }
   ],
   "source": [
    "print(np.exp(a))\n",
    "print(np.sqrt(a))\n",
    "print(np.sin(a))\n",
    "print(np.log(a))  \n",
    "print(np.log2(a))  "
   ]
  },
  {
   "cell_type": "code",
   "execution_count": 42,
   "metadata": {
    "tags": []
   },
   "outputs": [
    {
     "output_type": "stream",
     "name": "stdout",
     "text": "[0.03597923 0.61161908 0.89560878 0.21927648 0.7714321 ]\n[0. 1. 1. 0. 1.]\n"
    }
   ],
   "source": [
    "c = np.random.rand(5)\n",
    "print(c)\n",
    "print(np.around(c))"
   ]
  },
  {
   "cell_type": "code",
   "execution_count": null,
   "metadata": {},
   "outputs": [],
   "source": []
  },
  {
   "cell_type": "code",
   "execution_count": null,
   "metadata": {},
   "outputs": [],
   "source": []
  },
  {
   "cell_type": "code",
   "execution_count": null,
   "metadata": {},
   "outputs": [],
   "source": []
  },
  {
   "cell_type": "code",
   "execution_count": null,
   "metadata": {},
   "outputs": [],
   "source": []
  },
  {
   "cell_type": "code",
   "execution_count": null,
   "metadata": {},
   "outputs": [],
   "source": []
  },
  {
   "cell_type": "code",
   "execution_count": null,
   "metadata": {},
   "outputs": [],
   "source": []
  },
  {
   "cell_type": "code",
   "execution_count": null,
   "metadata": {},
   "outputs": [],
   "source": []
  }
 ]
}