{
 "metadata": {
  "language_info": {
   "codemirror_mode": {
    "name": "ipython",
    "version": 3
   },
   "file_extension": ".py",
   "mimetype": "text/x-python",
   "name": "python",
   "nbconvert_exporter": "python",
   "pygments_lexer": "ipython3",
   "version": "3.6.9-final"
  },
  "orig_nbformat": 2,
  "kernelspec": {
   "name": "python_defaultSpec_1598758891341",
   "display_name": "Python 3.6.9 64-bit"
  }
 },
 "nbformat": 4,
 "nbformat_minor": 2,
 "cells": [
  {
   "cell_type": "markdown",
   "metadata": {},
   "source": [
    "# How to do Statistics properly"
   ]
  },
  {
   "cell_type": "code",
   "execution_count": 121,
   "metadata": {},
   "outputs": [],
   "source": [
    "from math import *\n",
    "from statistics import *\n",
    "from scipy.stats import kurtosis, skew\n",
    "dist = [1,1,1,1,1,2,3,4,5,6,7,8,9,10,100]"
   ]
  },
  {
   "cell_type": "markdown",
   "metadata": {},
   "source": [
    "### Medidas de tendência central:\n",
    "* Média  $ \\rightarrow \\bar{x} = \\sum{\\frac{x_{i}}{n}} $ or $ \\mu = \\sum{\\frac{x_{i}}{N}} $\n",
    "* Mediana $ \\rightarrow $ medida no meio da distribuição\n",
    "* Moda $ \\rightarrow $ valor que mais se repete na distribuição\n",
    "\n"
   ]
  },
  {
   "cell_type": "code",
   "execution_count": 122,
   "metadata": {
    "tags": []
   },
   "outputs": [
    {
     "output_type": "stream",
     "name": "stdout",
     "text": "A média da distribuição é igual a  10.6\nA mediana da distribuição é igual a  4\nA moda da distribuição é igual a  1\n"
    }
   ],
   "source": [
    "print(\"A média da distribuição é igual a \",mean(dist))\n",
    "print(\"A mediana da distribuição é igual a \",median(dist))\n",
    "print(\"A moda da distribuição é igual a \",mode(dist))"
   ]
  },
  {
   "cell_type": "markdown",
   "metadata": {},
   "source": [
    "### Medidas de disperção\n",
    "* Variância ou Quadrado médio $ \\rightarrow $\n",
    "* Desvio Padrão ou Disperção Absoluta $ \\rightarrow $\n",
    "* Coeficiente de variação ou Disperção Relativa $ \\rightarrow \\frac{\\sigma}{\\mu}\\times 100 $ or $ \\frac{s}{\\bar{x}} \\times 100 $ (útil para comparar a variabilidade entre variáveis distintas. $CV_{fraco} < 15\\%; 15\\% <= CV_{médio} <= 30\\%; CV_{alto} < 30\\%$)"
   ]
  },
  {
   "cell_type": "code",
   "execution_count": 123,
   "metadata": {
    "tags": []
   },
   "outputs": [
    {
     "output_type": "stream",
     "name": "stdout",
     "text": "A variância da distribuição é igual a  621.6857142857143\nA variância da distribuição é igual a  24.933626176024102\nA variância tbm posse ser calculada como o quadrado do Desvio Padrão, portanto:\nTrue\nTrue\nJá o CV é igual a  235.22 %\n"
    }
   ],
   "source": [
    "print(\"A variância da distribuição é igual a \",variance(dist))\n",
    "print(\"A variância da distribuição é igual a \",stdev(dist))\n",
    "print(\"A variância tbm posse ser calculada como o quadrado do Desvio Padrão, portanto:\")\n",
    "print(variance(dist)==pow(stdev(dist),2))\n",
    "print(sqrt(variance(dist))==stdev(dist))\n",
    "print(\"Já o CV é igual a \",round((stdev(dist)/mean(dist))*100,2),\"%\")"
   ]
  },
  {
   "cell_type": "markdown",
   "metadata": {},
   "source": [
    "### Medidas separatrizes\n",
    "* Assimetria $ \\rightarrow AS = \\frac{q_3+q_3-2.Md}{q3-q1} $, dentre outras fórmulas;\n",
    "* Curtose $ \\rightarrow K = \\frac{(q_3-q_1) / 2}{c_{90}-c_10} $, dentre outras fórmulas;\n",
    "* Mediana, quartil, quintil, decil, percentil $ \\rightarrow P_i = \\frac{n.i}{100} $"
   ]
  },
  {
   "cell_type": "code",
   "execution_count": 124,
   "metadata": {
    "tags": []
   },
   "outputs": [
    {
     "output_type": "stream",
     "name": "stdout",
     "text": "A Assimetria da distribuição é igual a  3.378852431026255\nA Curtose da distribuição é igual a  9.6594855447027\nO 1°quartil, Mediana e 3°quartil são 1.0, 4.0, 7.5, respectivamente\nO 1°, 2° e 3° quintil são 1.0, 2.6000000000000005, 5.4, respectivamente.\nO 1°, 2° e 3° decil são 1.0, 1.0, 1.2000000000000002, respectivamente.\nO 1°, 2° e 3° percentil são 1.0, 1.0, 1.0, respectivamente.\n"
    }
   ],
   "source": [
    "print(\"A Assimetria da distribuição é igual a \",skew(dist))\n",
    "print(\"A Curtose da distribuição é igual a \",kurtosis(dist))\n",
    "print(\"O 1°quartil, Mediana e 3°quartil são {}, {}, {}, respectivamente\".format(np.percentile(dist,20),np.percentile(dist,50),np.percentile(dist,75)))\n",
    "print(\"O 1°, 2° e 3° quintil são {}, {}, {}, respectivamente.\".format(np.percentile(dist, 20),np.percentile(dist, 40),np.percentile(dist, 60)))\n",
    "print(\"O 1°, 2° e 3° decil são {}, {}, {}, respectivamente.\".format(np.percentile(dist,10),np.percentile(dist,20),np.percentile(dist,30)))\n",
    "print(\"O 1°, 2° e 3° percentil são {}, {}, {}, respectivamente.\".format(np.percentile(dist,1),np.percentile(dist,2),np.percentile(dist,3)))"
   ]
  },
  {
   "cell_type": "markdown",
   "metadata": {},
   "source": [
    "### Valores discrepantes\n",
    "* $ A|Q = q_3-q_1 $\n",
    "* $ Outlier > q_3 +1,5 \\times A|Q $\n",
    "* $ Outlier < q_1 -1,5 \\times A|Q $"
   ]
  },
  {
   "cell_type": "code",
   "execution_count": 125,
   "metadata": {
    "tags": []
   },
   "outputs": [
    {
     "output_type": "stream",
     "name": "stdout",
     "text": "O intervalo interquartil é igual a  6.5\nO limite superior é igual a  17.25\nO limite inferior é igual a  10.75\n"
    }
   ],
   "source": [
    "AIQ = (np.percentile(dist,75)-np.percentile(dist,25))\n",
    "print(\"O intervalo interquartil é igual a \", AIQ)\n",
    "print(\"O limite superior é igual a \", np.percentile(dist,75)+1.5*AIQ)\n",
    "print(\"O limite inferior é igual a \", np.percentile(dist,25)+1.5*AIQ)"
   ]
  },
  {
   "cell_type": "markdown",
   "metadata": {},
   "source": [
    "### Observações\n",
    "* Se $ q_3 - Md \\approx Md -q_1 $, a distribuição é simétrica;\n",
    "* Quanto maior $ q_3 - Md $ ou $ Md -q_1 $, maior a disperção."
   ]
  },
  {
   "cell_type": "code",
   "execution_count": null,
   "metadata": {},
   "outputs": [],
   "source": []
  },
  {
   "cell_type": "markdown",
   "metadata": {},
   "source": [
    "### Outras medidas\n",
    "Risco Relativo = Risco (sd) / Retorno Esperado"
   ]
  },
  {
   "cell_type": "code",
   "execution_count": null,
   "metadata": {},
   "outputs": [],
   "source": []
  },
  {
   "cell_type": "markdown",
   "metadata": {},
   "source": []
  },
  {
   "cell_type": "markdown",
   "metadata": {},
   "source": [
    "### Distribuições\n",
    "#### Distribuição Normal\n",
    "* Deve ser mesocurtica\n",
    "* Em distribuições Normais, 68,26% das observações estão dentro de $\\pm$ 1 desvio padrão, 95,445 estão dentro de $\\pm$ 2 desvios padrões e 99,74% a $\\pm$ 3 desvios padrões de distância da média."
   ]
  },
  {
   "cell_type": "code",
   "execution_count": null,
   "metadata": {},
   "outputs": [],
   "source": []
  },
  {
   "cell_type": "markdown",
   "metadata": {},
   "source": []
  },
  {
   "cell_type": "code",
   "execution_count": null,
   "metadata": {},
   "outputs": [],
   "source": []
  },
  {
   "cell_type": "code",
   "execution_count": null,
   "metadata": {},
   "outputs": [],
   "source": []
  },
  {
   "cell_type": "code",
   "execution_count": null,
   "metadata": {},
   "outputs": [],
   "source": []
  },
  {
   "cell_type": "code",
   "execution_count": null,
   "metadata": {},
   "outputs": [],
   "source": []
  }
 ]
}