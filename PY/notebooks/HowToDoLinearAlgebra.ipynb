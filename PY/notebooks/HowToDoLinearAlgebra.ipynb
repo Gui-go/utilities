{
 "metadata": {
  "language_info": {
   "codemirror_mode": {
    "name": "ipython",
    "version": 3
   },
   "file_extension": ".py",
   "mimetype": "text/x-python",
   "name": "python",
   "nbconvert_exporter": "python",
   "pygments_lexer": "ipython3",
   "version": "3.6.9-final"
  },
  "orig_nbformat": 2,
  "kernelspec": {
   "name": "python_defaultSpec_1598669573337",
   "display_name": "Python 3.6.9 64-bit"
  }
 },
 "nbformat": 4,
 "nbformat_minor": 2,
 "cells": [
  {
   "cell_type": "markdown",
   "metadata": {},
   "source": [
    "# Solving some Linear algebra excersises in Python"
   ]
  },
  {
   "cell_type": "markdown",
   "metadata": {},
   "source": [
    "### First, let's import some libraries"
   ]
  },
  {
   "cell_type": "code",
   "execution_count": 9,
   "metadata": {},
   "outputs": [],
   "source": [
    "import numpy as np"
   ]
  },
  {
   "cell_type": "markdown",
   "metadata": {},
   "source": [
    "### Then, let's get a matrix"
   ]
  },
  {
   "cell_type": "code",
   "execution_count": 30,
   "metadata": {
    "tags": []
   },
   "outputs": [
    {
     "output_type": "stream",
     "name": "stdout",
     "text": "[[10 20 30]\n [40 50 60]]\nA matrix a é do tipo:  <class 'numpy.ndarray'>\n"
    }
   ],
   "source": [
    "a = np.array([[10, 20, 30], [40, 50, 60]], dtype = int)\n",
    "print(a)\n",
    "print(\"A matrix a é do tipo: \",type(a))"
   ]
  },
  {
   "cell_type": "code",
   "execution_count": 42,
   "metadata": {
    "tags": []
   },
   "outputs": [
    {
     "output_type": "stream",
     "name": "stdout",
     "text": "[[0 1 2]\n [3 4 5]\n [6 7 8]]\nA matrix b é do tipo:  <class 'numpy.ndarray'>\n"
    }
   ],
   "source": [
    "b = np.arange(9).reshape(3, 3)\n",
    "print(b)\n",
    "print(\"A matrix b é do tipo: \",type(b))"
   ]
  },
  {
   "cell_type": "markdown",
   "metadata": {},
   "source": [
    "### To multiply two matrices, we use dot() method. Learn more about how numpy.dot works.\n",
    "### Note: * is used for array multiplication (multiplication of corresponding elements of two arrays) not matrix multiplication."
   ]
  },
  {
   "cell_type": "code",
   "execution_count": 50,
   "metadata": {
    "tags": []
   },
   "outputs": [
    {
     "output_type": "stream",
     "name": "stdout",
     "text": "[[240 300 360]\n [510 660 810]]\n"
    }
   ],
   "source": [
    "c = np.dot(a, b)\n",
    "print(c)"
   ]
  },
  {
   "cell_type": "code",
   "execution_count": 53,
   "metadata": {
    "tags": []
   },
   "outputs": [
    {
     "output_type": "stream",
     "name": "stdout",
     "text": "[[240 510]\n [300 660]\n [360 810]]\n"
    }
   ],
   "source": [
    "ct = c.transpose()\n",
    "print(ct)"
   ]
  },
  {
   "cell_type": "code",
   "execution_count": 62,
   "metadata": {
    "tags": []
   },
   "outputs": [
    {
     "output_type": "stream",
     "name": "stdout",
     "text": "ct[0][0] = [240 510]\nct[0][0] = 240\nct[0][0] = 510\nct[1][0] = 300\nct[2][0] = 360\nct[2][1] = 810\n"
    }
   ],
   "source": [
    "print(\"ct[0][0] =\",ct[0])\n",
    "print(\"ct[0][0] =\",ct[0][0])\n",
    "print(\"ct[0][0] =\",ct[0][1])\n",
    "print(\"ct[1][0] =\",ct[1][0])\n",
    "print(\"ct[2][0] =\",ct[2][0])\n",
    "print(\"ct[2][1] =\",ct[2][1])"
   ]
  },
  {
   "cell_type": "code",
   "execution_count": 63,
   "metadata": {},
   "outputs": [],
   "source": [
    "ct[0][0] = 666\n",
    "ct[2][1] = 666"
   ]
  },
  {
   "cell_type": "code",
   "execution_count": 67,
   "metadata": {
    "tags": []
   },
   "outputs": [
    {
     "output_type": "stream",
     "name": "stdout",
     "text": "New ct equals: \n [[666 510]\n [300 660]\n [360 666]]\n"
    }
   ],
   "source": [
    "print(\"New ct equals: \\n\",ct)"
   ]
  },
  {
   "cell_type": "code",
   "execution_count": 70,
   "metadata": {
    "tags": []
   },
   "outputs": [
    {
     "output_type": "stream",
     "name": "stdout",
     "text": "ct[:,0] = [666 300 360]\nct[:,1] = [510 660 666]\n"
    }
   ],
   "source": [
    "print(\"ct[:,0] =\",ct[:,0]) # First Column\n",
    "print(\"ct[:,1] =\", ct[:,1]) # Second column "
   ]
  },
  {
   "cell_type": "markdown",
   "metadata": {},
   "source": [
    "### Identity matrixes are such like these:"
   ]
  },
  {
   "cell_type": "code",
   "execution_count": 79,
   "metadata": {
    "tags": []
   },
   "outputs": [
    {
     "output_type": "stream",
     "name": "stdout",
     "text": "Identity matrix 3x3\n [[1. 0. 0.]\n [0. 1. 0.]\n [0. 0. 1.]] \n\nIdentity matrix 4x4\n [[1. 0. 0. 0.]\n [0. 1. 0. 0.]\n [0. 0. 1. 0.]\n [0. 0. 0. 1.]]\n"
    }
   ],
   "source": [
    "print(\"Identity matrix 3x3\\n\",np.eye(3),\"\\n\")\n",
    "print(\"Identity matrix 4x4\\n\",np.eye(4))"
   ]
  },
  {
   "cell_type": "markdown",
   "metadata": {},
   "source": [
    "### Computing inverse of a matrix is one of the important concepts and has many useful applications. Not all matrices can have inverse. Finding an inverse of a matrix A is find a matrix B such that the product of A with B is the identity matrix.\n",
    "\n",
    "#### NumPy’s linalg module has the function inv"
   ]
  },
  {
   "cell_type": "code",
   "execution_count": 88,
   "metadata": {
    "tags": []
   },
   "outputs": [
    {
     "output_type": "stream",
     "name": "stdout",
     "text": "[[ 1  2  3]\n [10  5  6]\n [ 7  8  9]]\n[[-0.08333333  0.16666667 -0.08333333]\n [-1.33333333 -0.33333333  0.66666667]\n [ 1.25        0.16666667 -0.41666667]]\n"
    }
   ],
   "source": [
    "d = np.array([[1,2,3], [10,5,6],[7,8,9]])\n",
    "print(d)\n",
    "\n",
    "d_inv = np.linalg.inv(d)\n",
    "print(d_inv)"
   ]
  },
  {
   "cell_type": "markdown",
   "metadata": {},
   "source": [
    "### As stated earlier, the multiplication of a matrix and its inverse is equal an identity matrix"
   ]
  },
  {
   "cell_type": "code",
   "execution_count": 93,
   "metadata": {
    "tags": []
   },
   "outputs": [
    {
     "output_type": "stream",
     "name": "stdout",
     "text": "[[ 1.00000000e+00  5.55111512e-17  0.00000000e+00]\n [-4.44089210e-16  1.00000000e+00 -4.44089210e-16]\n [ 2.22044605e-16  1.66533454e-16  1.00000000e+00]]\n"
    }
   ],
   "source": [
    "print(np.dot(d,np.linalg.inv(d),))"
   ]
  },
  {
   "cell_type": "code",
   "execution_count": 96,
   "metadata": {
    "tags": []
   },
   "outputs": [
    {
     "output_type": "stream",
     "name": "stdout",
     "text": "Is the result close enough to be considered equal?  True\n"
    }
   ],
   "source": [
    "print(\"Is the result close enough to be considered equal? \",np.allclose(np.dot(b, b_inv), np.eye(3)))"
   ]
  },
  {
   "cell_type": "markdown",
   "metadata": {
    "tags": []
   },
   "source": [
    "### We can also have the trace of a matrix, which is the sum of main diagonal "
   ]
  },
  {
   "cell_type": "code",
   "execution_count": 99,
   "metadata": {
    "tags": []
   },
   "outputs": [
    {
     "output_type": "stream",
     "name": "stdout",
     "text": "15\n"
    }
   ],
   "source": [
    "print(np.trace(d))"
   ]
  },
  {
   "cell_type": "markdown",
   "metadata": {},
   "source": [
    "### Finally, we can compute the determinant of a matrix"
   ]
  },
  {
   "cell_type": "code",
   "execution_count": 104,
   "metadata": {
    "tags": []
   },
   "outputs": [
    {
     "output_type": "stream",
     "name": "stdout",
     "text": "The determinant of the matrix d is euqals: 36\n"
    }
   ],
   "source": [
    "print(\"The determinant of the matrix d is euqals:\",int(np.linalg.det(d)))"
   ]
  },
  {
   "cell_type": "markdown",
   "metadata": {},
   "source": [
    "### Let's create a matrix from a diagonal"
   ]
  },
  {
   "cell_type": "code",
   "execution_count": 108,
   "metadata": {
    "tags": []
   },
   "outputs": [
    {
     "output_type": "stream",
     "name": "stdout",
     "text": "A matrix e foi criada a partir de sua diagonal, perceba:\n [[3 0 0]\n [0 4 0]\n [0 0 5]]\n"
    }
   ],
   "source": [
    "e = np.diag((3, 4, 5))\n",
    "print(\"A matrix e foi criada a partir de sua diagonal, perceba:\\n\",e)"
   ]
  },
  {
   "cell_type": "code",
   "execution_count": null,
   "metadata": {},
   "outputs": [],
   "source": []
  },
  {
   "cell_type": "code",
   "execution_count": null,
   "metadata": {},
   "outputs": [],
   "source": []
  },
  {
   "cell_type": "code",
   "execution_count": null,
   "metadata": {},
   "outputs": [],
   "source": []
  }
 ]
}